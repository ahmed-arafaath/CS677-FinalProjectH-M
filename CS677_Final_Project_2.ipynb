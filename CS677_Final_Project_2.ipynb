{
 "cells": [
  {
   "cell_type": "code",
   "execution_count": 1,
   "id": "b6040ab1",
   "metadata": {},
   "outputs": [
    {
     "name": "stdout",
     "output_type": "stream",
     "text": [
      "No GPU was detected. LSTMs and CNNs can be very slow without a GPU.\n"
     ]
    }
   ],
   "source": [
    "# Python ≥3.5 is required\n",
    "import sys\n",
    "assert sys.version_info >= (3, 5)\n",
    "\n",
    "# Is this notebook running on Colab or Kaggle?\n",
    "IS_COLAB = \"google.colab\" in sys.modules\n",
    "IS_KAGGLE = \"kaggle_secrets\" in sys.modules\n",
    "\n",
    "# Scikit-Learn ≥0.20 is required\n",
    "import sklearn\n",
    "assert sklearn.__version__ >= \"0.20\"\n",
    "\n",
    "# TensorFlow ≥2.0 is required\n",
    "import tensorflow as tf\n",
    "from typing import Dict, Text\n",
    "from tensorflow import keras\n",
    "from tqdm.notebook import tqdm\n",
    "tqdm.pandas()\n",
    "import tensorflow_recommenders as tfrs\n",
    "try:\n",
    "    if not tf.config.list_physical_devices('GPU'):\n",
    "        assert tf.__version__ >= \"2.0\"\n",
    "        print(\"No GPU was detected. LSTMs and CNNs can be very slow without a GPU.\")\n",
    "        if IS_COLAB:\n",
    "            print(\"Go to Runtime > Change runtime and select a GPU hardware accelerator.\")\n",
    "        if IS_KAGGLE:\n",
    "            print(\"Go to Settings > Accelerator and select GPU.\")\n",
    "except:\n",
    "    if not tf.test.is_gpu_available():\n",
    "        assert tf.__version__ >= \"2.0\"\n",
    "        print(\"No GPU was detected. LSTMs and CNNs can be very slow without a GPU.\")\n",
    "        if IS_COLAB:\n",
    "            print(\"Go to Runtime > Change runtime and select a GPU hardware accelerator.\")\n",
    "        if IS_KAGGLE:\n",
    "            print(\"Go to Settings > Accelerator and select GPU.\")\n",
    "\n",
    "# Common imports\n",
    "import numpy as np\n",
    "import pandas as pd\n",
    "import sklearn.preprocessing\n",
    "from sklearn.linear_model import LinearRegression\n",
    "from sklearn.metrics import mean_squared_error\n",
    "import os\n",
    "from pathlib import Path\n",
    "from datetime import datetime\n",
    "# to make this notebook's output stable across runs\n",
    "np.random.seed(42)\n",
    "try:\n",
    "    if not tf.config.list_physical_devices('GPU'):\n",
    "        tf.random.set_seed(42)\n",
    "    else:\n",
    "        tf.random.set_random_seed(42)\n",
    "except:\n",
    "    if not tf.test.is_gpu_available():\n",
    "        tf.random.set_seed(42)\n",
    "    else:\n",
    "        tf.random.set_random_seed(42)\n",
    "\n",
    "# To plot pretty figures\n",
    "%matplotlib inline\n",
    "import matplotlib as mpl\n",
    "import matplotlib.pyplot as plt\n",
    "mpl.rc('axes', labelsize=14)\n",
    "mpl.rc('xtick', labelsize=12)\n",
    "mpl.rc('ytick', labelsize=12)"
   ]
  },
  {
   "cell_type": "code",
   "execution_count": 2,
   "id": "af88b2bc",
   "metadata": {},
   "outputs": [],
   "source": [
    "def zero_f(item):\n",
    "    item=str(item)\n",
    "    tem=len(item)\n",
    "    if(len(item)<10):\n",
    "        item=item.zfill(10)\n",
    "    return item"
   ]
  },
  {
   "cell_type": "code",
   "execution_count": 3,
   "id": "a1f820ba",
   "metadata": {},
   "outputs": [],
   "source": [
    "trans_train = pd.read_csv('h-and-m-personalized-fashion-recommendations/transactions_train.csv',dtype={'customer_id': str,'article_id':str})\n",
    "trans_train['quantity']=1\n",
    "articles= pd.read_csv('h-and-m-personalized-fashion-recommendations/articles.csv',dtype={'article_id': str,'product_code':str})\n",
    "master_df = trans_train[['customer_id','article_id']].astype(str)\n",
    "master_df['article_id']=master_df['article_id'].apply(zero_f)\n",
    "master_df['quantity'] = trans_train['quantity'].astype(float)\n",
    "masterdf = master_df"
   ]
  },
  {
   "cell_type": "code",
   "execution_count": 4,
   "id": "6632fac3",
   "metadata": {},
   "outputs": [],
   "source": [
    "interactions_dict = masterdf.groupby(['customer_id', 'article_id'])[ 'quantity'].sum().reset_index()\n",
    "interactions_dict = {name: np.array(value) for name, value in interactions_dict.items()}\n",
    "interactions = tf.data.Dataset.from_tensor_slices(interactions_dict)\n",
    "items_dict = articles[['article_id']].drop_duplicates()\n",
    "items_dict = {name: np.array(value) for name, value in items_dict.items()}\n",
    "items = tf.data.Dataset.from_tensor_slices(items_dict)\n",
    "interactions = interactions.map(lambda x: {\n",
    "                                            'customer_id' : x['customer_id'], \n",
    "                                            'article_id' : x['article_id'],\n",
    "                                            'quantity' : float(x['quantity'])\n",
    "                                             })\n",
    "items = items.map(lambda x: x['article_id'])"
   ]
  },
  {
   "cell_type": "code",
   "execution_count": 5,
   "id": "1f11f01d",
   "metadata": {},
   "outputs": [],
   "source": [
    "### get unique item and user id's as a lookup table\n",
    "unique_items = np.unique(np.concatenate(list(items.batch(1_000))))\n",
    "unique_user_ids = np.unique(np.concatenate(list(interactions.batch(1_000_000).map(lambda x: x[\"customer_id\"]))))\n",
    "\n",
    "# Randomly shuffle data and split between train and test.\n",
    "tf.random.set_seed(42)\n",
    "shuffled = interactions.shuffle(200_000, seed=42, reshuffle_each_iteration=False)\n",
    "\n",
    "train = shuffled.take(160_000)\n",
    "test = shuffled.skip(160_000).take(40_000)\n",
    "cached_train = train.shuffle(200_000).batch(2048)\n",
    "cached_test = test.batch(4096).cache()"
   ]
  },
  {
   "cell_type": "code",
   "execution_count": 6,
   "id": "470593e2",
   "metadata": {},
   "outputs": [],
   "source": [
    "def my_l1_regularizer(weights):\n",
    "    return tf.reduce_sum(tf.abs(0.01 * weights))\n",
    "def my_positive_weights(weights): # return value is just tf.nn.relu(weights)\n",
    "    return tf.where(weights < 0., tf.zeros_like(weights), weights)"
   ]
  },
  {
   "cell_type": "code",
   "execution_count": 7,
   "id": "87194fad",
   "metadata": {},
   "outputs": [],
   "source": [
    "class UserModel(tf.keras.Model):\n",
    "\n",
    "    def __init__(self):\n",
    "        super().__init__()\n",
    "\n",
    "        ## embed user id from unique_user_ids\n",
    "        self.user_embedding = tf.keras.Sequential([\n",
    "            tf.keras.layers.StringLookup(\n",
    "                vocabulary=unique_user_ids, mask_token=None),\n",
    "            tf.keras.layers.Embedding(len(unique_user_ids) + 20, 32),\n",
    "        ])\n",
    "\n",
    "\n",
    "    def call(self, inputs):\n",
    "        return self.user_embedding(inputs)\n"
   ]
  },
  {
   "cell_type": "code",
   "execution_count": 8,
   "id": "408aa3d5",
   "metadata": {},
   "outputs": [],
   "source": [
    "class ItemModel(tf.keras.Model):\n",
    "\n",
    "    def __init__(self):\n",
    "        super().__init__()\n",
    "        max_tokens = 10_000\n",
    "\n",
    "        ## embed title from unique_item_titles\n",
    "        self.title_embedding = tf.keras.Sequential([\n",
    "                      tf.keras.layers.StringLookup(\n",
    "                          vocabulary=unique_items, mask_token=None),\n",
    "                      tf.keras.layers.Embedding(len(unique_items) + 1, 32)])\n",
    "\n",
    "        ## processing text features: item title vectorizer (see self.title_vectorizer)\n",
    "        self.title_vectorizer = tf.keras.layers.TextVectorization(\n",
    "            max_tokens=max_tokens)\n",
    "\n",
    "        ## we apply title vectorizer to items\n",
    "        self.title_text_embedding = tf.keras.Sequential([\n",
    "                              self.title_vectorizer,\n",
    "                              tf.keras.layers.Embedding(max_tokens, 32, mask_zero=True),\n",
    "                              tf.keras.layers.Conv1D(filters=32, kernel_size=3,strides=1,padding='same'),\n",
    "                              tf.keras.layers.Conv1D(filters=32, kernel_size=3,strides=1,padding='same'),\n",
    "                              tf.keras.layers.GlobalAveragePooling1D()])\n",
    "\n",
    "        self.title_vectorizer.adapt(items)\n",
    "\n",
    "    def call(self, titles):\n",
    "        return tf.concat([\n",
    "            self.title_embedding(titles),\n",
    "            self.title_text_embedding(titles),], axis=1)"
   ]
  },
  {
   "cell_type": "code",
   "execution_count": 9,
   "id": "06ec28a9",
   "metadata": {},
   "outputs": [],
   "source": [
    "class CandidateModel(tfrs.models.Model):\n",
    "    def __init__(self):\n",
    "        super().__init__()\n",
    "\n",
    "        ## query model is user model\n",
    "        self.query_model = tf.keras.Sequential([\n",
    "                          UserModel(),\n",
    "                          tf.keras.layers.Dense(64,activation=\"relu\",kernel_initializer='he_normal',use_bias=False),\n",
    "                          tf.keras.layers.BatchNormalization(),\n",
    "                          tf.keras.layers.Dropout(0.3),\n",
    "                          tf.keras.layers.Dense(64,activation=\"relu\",kernel_initializer='he_normal',use_bias=False),\n",
    "                          tf.keras.layers.BatchNormalization(),\n",
    "                          tf.keras.layers.Dropout(0.3),\n",
    "                          tf.keras.layers.Dense(32,activation=\"relu\",kernel_initializer='he_normal',use_bias=False),\n",
    "                          tf.keras.layers.BatchNormalization(),\n",
    "                          tf.keras.layers.Dropout(0.3),\n",
    "                          tf.keras.layers.Dense(32,kernel_regularizer=my_l1_regularizer,kernel_constraint=my_positive_weights)])\n",
    "        \n",
    "        ## candidate model is the item model\n",
    "        self.candidate_model = tf.keras.Sequential([\n",
    "                              ItemModel(),\n",
    "                              tf.keras.layers.Dense(64,activation=\"relu\",kernel_initializer='he_normal',use_bias=False),\n",
    "                              tf.keras.layers.BatchNormalization(),\n",
    "                              keras.layers.Dropout(0.3),\n",
    "                              tf.keras.layers.Dense(64,activation=\"relu\",kernel_initializer='he_normal',use_bias=False),\n",
    "                              tf.keras.layers.BatchNormalization(),\n",
    "                              tf.keras.layers.Dropout(0.3),\n",
    "                              tf.keras.layers.Dense(32,activation=\"relu\",kernel_initializer='he_normal',use_bias=False),\n",
    "                              tf.keras.layers.BatchNormalization(),\n",
    "                              tf.keras.layers.Dropout(0.3),\n",
    "                              tf.keras.layers.Dense(32,kernel_regularizer=my_l1_regularizer,kernel_constraint=my_positive_weights)])\n",
    "        \n",
    "        ## retrieval task, choose metrics\n",
    "        self.task = tfrs.tasks.Retrieval(\n",
    "                    metrics=tfrs.metrics.FactorizedTopK(\n",
    "                        candidates=items.batch(128).map(self.candidate_model),),)\n",
    "\n",
    "    def compute_loss(self, features, training=False):\n",
    "        # We only pass the user id and timestamp features into the query model. This\n",
    "        # is to ensure that the training inputs would have the same keys as the\n",
    "        # query inputs. Otherwise the discrepancy in input structure would cause an\n",
    "        # error when loading the query model after saving it.\n",
    "        \n",
    "        query_embeddings = self.query_model(features[\"customer_id\"])\n",
    "        \n",
    "        item_embeddings = self.candidate_model(features[\"article_id\"])\n",
    "\n",
    "        return self.task(query_embeddings, item_embeddings)"
   ]
  },
  {
   "cell_type": "code",
   "execution_count": null,
   "id": "6dcfe736",
   "metadata": {},
   "outputs": [
    {
     "name": "stdout",
     "output_type": "stream",
     "text": [
      "Epoch 1/20\n",
      "79/79 [==============================] - 288s 4s/step - factorized_top_k/top_1_categorical_accuracy: 0.0400 - factorized_top_k/top_5_categorical_accuracy: 0.0614 - factorized_top_k/top_10_categorical_accuracy: 0.0743 - factorized_top_k/top_50_categorical_accuracy: 0.1106 - factorized_top_k/top_100_categorical_accuracy: 0.1169 - loss: 123247.2306 - regularization_loss: 0.6817 - total_loss: 123247.9121\n",
      "Epoch 2/20\n",
      "79/79 [==============================] - 295s 4s/step - factorized_top_k/top_1_categorical_accuracy: 9.3750e-05 - factorized_top_k/top_5_categorical_accuracy: 1.5625e-04 - factorized_top_k/top_10_categorical_accuracy: 2.3750e-04 - factorized_top_k/top_50_categorical_accuracy: 6.7500e-04 - factorized_top_k/top_100_categorical_accuracy: 0.0011 - loss: 15240.4792 - regularization_loss: 0.5725 - total_loss: 15241.0517\n",
      "Epoch 3/20\n",
      "79/79 [==============================] - 304s 4s/step - factorized_top_k/top_1_categorical_accuracy: 8.7500e-05 - factorized_top_k/top_5_categorical_accuracy: 1.9375e-04 - factorized_top_k/top_10_categorical_accuracy: 2.8750e-04 - factorized_top_k/top_50_categorical_accuracy: 8.6875e-04 - factorized_top_k/top_100_categorical_accuracy: 0.0015 - loss: 15212.6507 - regularization_loss: 0.5598 - total_loss: 15213.2104\n",
      "Epoch 4/20\n",
      "79/79 [==============================] - 310s 4s/step - factorized_top_k/top_1_categorical_accuracy: 1.5000e-04 - factorized_top_k/top_5_categorical_accuracy: 2.5000e-04 - factorized_top_k/top_10_categorical_accuracy: 3.3125e-04 - factorized_top_k/top_50_categorical_accuracy: 0.0010 - factorized_top_k/top_100_categorical_accuracy: 0.0017 - loss: 15189.9967 - regularization_loss: 0.5491 - total_loss: 15190.5459\n",
      "Epoch 5/20\n",
      "79/79 [==============================] - 298s 4s/step - factorized_top_k/top_1_categorical_accuracy: 3.6875e-04 - factorized_top_k/top_5_categorical_accuracy: 5.0000e-04 - factorized_top_k/top_10_categorical_accuracy: 6.6250e-04 - factorized_top_k/top_50_categorical_accuracy: 0.0024 - factorized_top_k/top_100_categorical_accuracy: 0.0072 - loss: 15165.0147 - regularization_loss: 0.5417 - total_loss: 15165.5564\n",
      "Epoch 6/20\n",
      "79/79 [==============================] - 299s 4s/step - factorized_top_k/top_1_categorical_accuracy: 1.5625e-04 - factorized_top_k/top_5_categorical_accuracy: 3.6250e-04 - factorized_top_k/top_10_categorical_accuracy: 5.1250e-04 - factorized_top_k/top_50_categorical_accuracy: 0.0016 - factorized_top_k/top_100_categorical_accuracy: 0.0058 - loss: 15129.5644 - regularization_loss: 0.5350 - total_loss: 15130.0994\n",
      "Epoch 7/20\n",
      "79/79 [==============================] - 291s 4s/step - factorized_top_k/top_1_categorical_accuracy: 0.0779 - factorized_top_k/top_5_categorical_accuracy: 0.0938 - factorized_top_k/top_10_categorical_accuracy: 0.1011 - factorized_top_k/top_50_categorical_accuracy: 0.1299 - factorized_top_k/top_100_categorical_accuracy: 0.1525 - loss: 15177.3985 - regularization_loss: 0.5318 - total_loss: 15177.9303\n",
      "Epoch 8/20\n",
      "57/79 [====================>.........] - ETA: 1:20 - factorized_top_k/top_1_categorical_accuracy: 0.0236 - factorized_top_k/top_5_categorical_accuracy: 0.0400 - factorized_top_k/top_10_categorical_accuracy: 0.0472 - factorized_top_k/top_50_categorical_accuracy: 0.0825 - factorized_top_k/top_100_categorical_accuracy: 0.1095 - loss: 15400.6787 - regularization_loss: 0.5264 - total_loss: 15401.2051"
     ]
    }
   ],
   "source": [
    "model = CandidateModel()\n",
    "model.compile(optimizer=tf.keras.optimizers.Adagrad(0.1))\n",
    "model.fit(cached_train,epochs=20,batch_size=32)\n",
    "model.evaluate(cached_test, return_dict=True)"
   ]
  },
  {
   "cell_type": "code",
   "execution_count": null,
   "id": "c4b6f841",
   "metadata": {},
   "outputs": [],
   "source": [
    "index = tfrs.layers.factorized_top_k.BruteForce(model.query_model)\n",
    "index.index_from_dataset(items.batch(100).map(lambda items: (items,model.candidate_model(items))))"
   ]
  },
  {
   "cell_type": "code",
   "execution_count": null,
   "id": "c8357bd9",
   "metadata": {},
   "outputs": [],
   "source": [
    "_, titles = index(np.array([\"000231cc9af9e58ab4edc66fbd61da921b144ba85bc1c00d0ae2309531e4c210\"]), k=3)\n",
    "print(f\"Top recommendations: {titles[0]}\")"
   ]
  },
  {
   "cell_type": "code",
   "execution_count": null,
   "id": "5a4fbeab",
   "metadata": {},
   "outputs": [],
   "source": [
    "_, titles = index(np.array([\"000058a12d5b43e67d225668fa1f8d618c13dc232df0cad8ffe7ad4a1091e318\"]), k=12)\n",
    "print(f\"Top recommendations: {titles[0]}\")"
   ]
  },
  {
   "cell_type": "code",
   "execution_count": null,
   "id": "c96b5449",
   "metadata": {},
   "outputs": [],
   "source": [
    "def decoder(e):\n",
    "    return e.decode('UTF-8')\n",
    "def run_f(item):\n",
    "    _, titles = index(tf.constant([item]),k=12)\n",
    "    t = np.array(titles[0])\n",
    "    vfunc = np.vectorize(decoder)\n",
    "    l = vfunc(t)\n",
    "    l = \" \".join(l)\n",
    "    return l"
   ]
  },
  {
   "cell_type": "code",
   "execution_count": null,
   "id": "5bc8bff2",
   "metadata": {},
   "outputs": [],
   "source": [
    "submission_file = pd.read_csv('h-and-m-personalized-fashion-recommendations/sample_submission.csv',dtype={'customer_id': str})\n",
    "sub_cust = submission_file[\"customer_id\"]\n",
    "sub_df = pd.DataFrame(columns=['Customer_Id', 'Article_Id'])\n",
    "submission_file[\"prediction\"] = submission_file['customer_id'].progress_apply(run_f)\n",
    "submission_file"
   ]
  },
  {
   "cell_type": "code",
   "execution_count": null,
   "id": "674d182a",
   "metadata": {},
   "outputs": [],
   "source": [
    "submission_file.to_csv('submission.csv',index=False)"
   ]
  },
  {
   "cell_type": "code",
   "execution_count": null,
   "id": "48fa7b1e",
   "metadata": {},
   "outputs": [],
   "source": []
  }
 ],
 "metadata": {
  "kernelspec": {
   "display_name": "Python 3 (ipykernel)",
   "language": "python",
   "name": "python3"
  },
  "language_info": {
   "codemirror_mode": {
    "name": "ipython",
    "version": 3
   },
   "file_extension": ".py",
   "mimetype": "text/x-python",
   "name": "python",
   "nbconvert_exporter": "python",
   "pygments_lexer": "ipython3",
   "version": "3.8.11"
  }
 },
 "nbformat": 4,
 "nbformat_minor": 5
}
