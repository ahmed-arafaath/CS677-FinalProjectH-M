{
 "cells": [
  {
   "cell_type": "code",
   "execution_count": 1,
   "id": "405e34ff",
   "metadata": {},
   "outputs": [
    {
     "name": "stdout",
     "output_type": "stream",
     "text": [
      "No GPU was detected. LSTMs and CNNs can be very slow without a GPU.\n"
     ]
    }
   ],
   "source": [
    "# Python ≥3.5 is required\n",
    "import sys\n",
    "assert sys.version_info >= (3, 5)\n",
    "\n",
    "# Is this notebook running on Colab or Kaggle?\n",
    "IS_COLAB = \"google.colab\" in sys.modules\n",
    "IS_KAGGLE = \"kaggle_secrets\" in sys.modules\n",
    "\n",
    "# Scikit-Learn ≥0.20 is required\n",
    "import sklearn\n",
    "assert sklearn.__version__ >= \"0.20\"\n",
    "\n",
    "# TensorFlow ≥2.0 is required\n",
    "import tensorflow as tf\n",
    "from typing import Dict, Text\n",
    "from tensorflow import keras\n",
    "import tensorflow_recommenders as tfrs\n",
    "try:\n",
    "    if not tf.config.list_physical_devices('GPU'):\n",
    "        assert tf.__version__ >= \"2.0\"\n",
    "        print(\"No GPU was detected. LSTMs and CNNs can be very slow without a GPU.\")\n",
    "        if IS_COLAB:\n",
    "            print(\"Go to Runtime > Change runtime and select a GPU hardware accelerator.\")\n",
    "        if IS_KAGGLE:\n",
    "            print(\"Go to Settings > Accelerator and select GPU.\")\n",
    "except:\n",
    "    if not tf.test.is_gpu_available():\n",
    "        assert tf.__version__ >= \"2.0\"\n",
    "        print(\"No GPU was detected. LSTMs and CNNs can be very slow without a GPU.\")\n",
    "        if IS_COLAB:\n",
    "            print(\"Go to Runtime > Change runtime and select a GPU hardware accelerator.\")\n",
    "        if IS_KAGGLE:\n",
    "            print(\"Go to Settings > Accelerator and select GPU.\")\n",
    "\n",
    "# Common imports\n",
    "import numpy as np\n",
    "import pandas as pd\n",
    "import sklearn.preprocessing\n",
    "from sklearn.linear_model import LinearRegression\n",
    "from sklearn.metrics import mean_squared_error\n",
    "import os\n",
    "import datetime as dt\n",
    "from pathlib import Path\n",
    "\n",
    "# to make this notebook's output stable across runs\n",
    "np.random.seed(42)\n",
    "try:\n",
    "    if not tf.config.list_physical_devices('GPU'):\n",
    "        tf.random.set_seed(42)\n",
    "    else:\n",
    "        tf.random.set_random_seed(42)\n",
    "except:\n",
    "    if not tf.test.is_gpu_available():\n",
    "        tf.random.set_seed(42)\n",
    "    else:\n",
    "        tf.random.set_random_seed(42)\n",
    "\n",
    "# To plot pretty figures\n",
    "%matplotlib inline\n",
    "import matplotlib as mpl\n",
    "import matplotlib.pyplot as plt\n",
    "mpl.rc('axes', labelsize=14)\n",
    "mpl.rc('xtick', labelsize=12)\n",
    "mpl.rc('ytick', labelsize=12)"
   ]
  },
  {
   "cell_type": "code",
   "execution_count": 2,
   "id": "3dfcb29a",
   "metadata": {},
   "outputs": [],
   "source": [
    "def zero_f(item):\n",
    "    item=str(item)\n",
    "    tem=len(item)\n",
    "    if(len(item)<10):\n",
    "        item=item.zfill(10)\n",
    "    return item"
   ]
  },
  {
   "cell_type": "code",
   "execution_count": 3,
   "id": "b54c2c61",
   "metadata": {},
   "outputs": [
    {
     "data": {
      "text/html": [
       "<div>\n",
       "<style scoped>\n",
       "    .dataframe tbody tr th:only-of-type {\n",
       "        vertical-align: middle;\n",
       "    }\n",
       "\n",
       "    .dataframe tbody tr th {\n",
       "        vertical-align: top;\n",
       "    }\n",
       "\n",
       "    .dataframe thead th {\n",
       "        text-align: right;\n",
       "    }\n",
       "</style>\n",
       "<table border=\"1\" class=\"dataframe\">\n",
       "  <thead>\n",
       "    <tr style=\"text-align: right;\">\n",
       "      <th></th>\n",
       "      <th>customer_id</th>\n",
       "      <th>article_id</th>\n",
       "      <th>quantity</th>\n",
       "    </tr>\n",
       "  </thead>\n",
       "  <tbody>\n",
       "    <tr>\n",
       "      <th>0</th>\n",
       "      <td>000058a12d5b43e67d225668fa1f8d618c13dc232df0ca...</td>\n",
       "      <td>0663713001</td>\n",
       "      <td>1.0</td>\n",
       "    </tr>\n",
       "    <tr>\n",
       "      <th>1</th>\n",
       "      <td>000058a12d5b43e67d225668fa1f8d618c13dc232df0ca...</td>\n",
       "      <td>0541518023</td>\n",
       "      <td>1.0</td>\n",
       "    </tr>\n",
       "    <tr>\n",
       "      <th>2</th>\n",
       "      <td>00007d2de826758b65a93dd24ce629ed66842531df6699...</td>\n",
       "      <td>0505221004</td>\n",
       "      <td>1.0</td>\n",
       "    </tr>\n",
       "    <tr>\n",
       "      <th>3</th>\n",
       "      <td>00007d2de826758b65a93dd24ce629ed66842531df6699...</td>\n",
       "      <td>0685687003</td>\n",
       "      <td>1.0</td>\n",
       "    </tr>\n",
       "    <tr>\n",
       "      <th>4</th>\n",
       "      <td>00007d2de826758b65a93dd24ce629ed66842531df6699...</td>\n",
       "      <td>0685687004</td>\n",
       "      <td>1.0</td>\n",
       "    </tr>\n",
       "  </tbody>\n",
       "</table>\n",
       "</div>"
      ],
      "text/plain": [
       "                                         customer_id  article_id  quantity\n",
       "0  000058a12d5b43e67d225668fa1f8d618c13dc232df0ca...  0663713001       1.0\n",
       "1  000058a12d5b43e67d225668fa1f8d618c13dc232df0ca...  0541518023       1.0\n",
       "2  00007d2de826758b65a93dd24ce629ed66842531df6699...  0505221004       1.0\n",
       "3  00007d2de826758b65a93dd24ce629ed66842531df6699...  0685687003       1.0\n",
       "4  00007d2de826758b65a93dd24ce629ed66842531df6699...  0685687004       1.0"
      ]
     },
     "execution_count": 3,
     "metadata": {},
     "output_type": "execute_result"
    }
   ],
   "source": [
    "trans_train = pd.read_csv('h-and-m-personalized-fashion-recommendations/transactions_train.csv',dtype={'customer_id': str,'article_id':str})\n",
    "trans_train['quantity']=1\n",
    "master_df = trans_train[['customer_id','article_id','quantity']].astype(str)\n",
    "master_df['article_id']=master_df['article_id'].apply(zero_f)\n",
    "master_df['quantity'] = master_df['quantity'].astype(float)\n",
    "masterdf = master_df\n",
    "master_df.head()"
   ]
  },
  {
   "cell_type": "code",
   "execution_count": 4,
   "id": "84618e18",
   "metadata": {},
   "outputs": [],
   "source": [
    "### define interactions data and user data\n",
    "\n",
    "### interactions \n",
    "### here we create a reference table of the user , item, and quantity purchased\n",
    "interactions_dict = masterdf.groupby(['customer_id', 'article_id'])[ 'quantity'].sum().reset_index()\n",
    "\n",
    "## we tansform the table inta a dictionary , which then we feed into tensor slices\n",
    "# this step is crucial as this will be the type of data fed into the embedding layers\n",
    "interactions_dict = {name: np.array(value) for name, value in interactions_dict.items()}\n",
    "interactions = tf.data.Dataset.from_tensor_slices(interactions_dict)\n",
    "\n",
    "## we do similar step for item, where this is the reference table for items to be recommended\n",
    "items_dict = masterdf[['article_id']].drop_duplicates()\n",
    "items_dict = {name: np.array(value) for name, value in items_dict.items()}\n",
    "items = tf.data.Dataset.from_tensor_slices(items_dict)\n",
    "\n",
    "## map the features in interactions and items to an identifier that we will use throught the embedding layers\n",
    "## do it for all the items in interaction and item table\n",
    "## you may often get itemtype error, so that is why here i am casting the quantity type as float to ensure consistency\n",
    "interactions = interactions.map(lambda x: {\n",
    "    'customer_id' : x['customer_id'], \n",
    "    'article_id' : x['article_id'], \n",
    "    'quantity' : float(x['quantity']),\n",
    "\n",
    "})\n",
    "\n",
    "items = items.map(lambda x: x['article_id'])"
   ]
  },
  {
   "cell_type": "code",
   "execution_count": 5,
   "id": "41b56fca",
   "metadata": {},
   "outputs": [],
   "source": [
    "unique_item_titles = np.unique(np.concatenate(list(items.batch(1000))))\n",
    "unique_user_ids = np.unique(np.concatenate(list(interactions.batch(1_000).map(lambda x: x[\"customer_id\"]))))"
   ]
  },
  {
   "cell_type": "code",
   "execution_count": 6,
   "id": "22e083ec",
   "metadata": {},
   "outputs": [],
   "source": [
    "### get unique item and user id's as a lookup table\n",
    "unique_item_titles = np.unique(np.concatenate(list(items.batch(1000))))\n",
    "unique_user_ids = np.unique(np.concatenate(list(interactions.batch(1_000).map(lambda x: x[\"customer_id\"]))))\n",
    "\n",
    "# Randomly shuffle data and split between train and test.\n",
    "tf.random.set_seed(42)\n",
    "shuffled = interactions.shuffle(100_000, seed=42, reshuffle_each_iteration=False)\n",
    "\n",
    "train = shuffled.take(60_000)\n",
    "test = shuffled.skip(60_000).take(20_000)"
   ]
  },
  {
   "cell_type": "code",
   "execution_count": 7,
   "id": "417a70c4",
   "metadata": {},
   "outputs": [],
   "source": [
    "class RetailModel(tfrs.Model):\n",
    "\n",
    "    def __init__(self, user_model, item_model):\n",
    "        super().__init__()\n",
    "        \n",
    "        self.item_model: tf.keras.Model = item_model\n",
    "        self.user_model: tf.keras.Model = user_model\n",
    "        \n",
    "        ### for retrieval model. we take top-k accuracy as metrics\n",
    "        metrics = tfrs.metrics.FactorizedTopK(candidates=items.batch(256).map(item_model))\n",
    "        \n",
    "        # define the task, which is retrieval                                    )    \n",
    "        task = tfrs.tasks.Retrieval(metrics=metrics)\n",
    "       \n",
    "        self.task: tf.keras.layers.Layer = task\n",
    "\n",
    "    def compute_loss(self, features: Dict[Text, tf.Tensor], training=False) -> tf.Tensor:\n",
    "        # We pick out the user features and pass them into the user model.\n",
    "        user_embeddings = self.user_model(features[\"customer_id\"])\n",
    "        # And pick out the movie features and pass them into the movie model,\n",
    "        # getting embeddings back.\n",
    "        positive_movie_embeddings = self.item_model(features[\"article_id\"])\n",
    "\n",
    "        # The task computes the loss and the metrics.\n",
    "        return self.task(user_embeddings, positive_movie_embeddings)"
   ]
  },
  {
   "cell_type": "code",
   "execution_count": 8,
   "id": "5711d538",
   "metadata": {},
   "outputs": [
    {
     "name": "stdout",
     "output_type": "stream",
     "text": [
      "Epoch 1/20\n",
      "8/8 [==============================] - 115s 12s/step - factorized_top_k/top_1_categorical_accuracy: 1.6667e-05 - factorized_top_k/top_5_categorical_accuracy: 5.0000e-05 - factorized_top_k/top_10_categorical_accuracy: 1.0000e-04 - factorized_top_k/top_50_categorical_accuracy: 5.3333e-04 - factorized_top_k/top_100_categorical_accuracy: 8.6667e-04 - loss: 62069.3099 - regularization_loss: 0.0000e+00 - total_loss: 62069.3099\n",
      "Epoch 2/20\n",
      "8/8 [==============================] - 100s 12s/step - factorized_top_k/top_1_categorical_accuracy: 1.6667e-05 - factorized_top_k/top_5_categorical_accuracy: 2.6667e-04 - factorized_top_k/top_10_categorical_accuracy: 5.5000e-04 - factorized_top_k/top_50_categorical_accuracy: 0.0022 - factorized_top_k/top_100_categorical_accuracy: 0.0041 - loss: 62009.9905 - regularization_loss: 0.0000e+00 - total_loss: 62009.9905\n",
      "Epoch 3/20\n",
      "8/8 [==============================] - 95s 12s/step - factorized_top_k/top_1_categorical_accuracy: 5.0000e-05 - factorized_top_k/top_5_categorical_accuracy: 0.0012 - factorized_top_k/top_10_categorical_accuracy: 0.0021 - factorized_top_k/top_50_categorical_accuracy: 0.0079 - factorized_top_k/top_100_categorical_accuracy: 0.0130 - loss: 61949.9353 - regularization_loss: 0.0000e+00 - total_loss: 61949.9353\n",
      "Epoch 4/20\n",
      "8/8 [==============================] - 95s 12s/step - factorized_top_k/top_1_categorical_accuracy: 1.1667e-04 - factorized_top_k/top_5_categorical_accuracy: 0.0044 - factorized_top_k/top_10_categorical_accuracy: 0.0075 - factorized_top_k/top_50_categorical_accuracy: 0.0240 - factorized_top_k/top_100_categorical_accuracy: 0.0377 - loss: 61888.2652 - regularization_loss: 0.0000e+00 - total_loss: 61888.2652\n",
      "Epoch 5/20\n",
      "8/8 [==============================] - 95s 12s/step - factorized_top_k/top_1_categorical_accuracy: 5.6667e-04 - factorized_top_k/top_5_categorical_accuracy: 0.0132 - factorized_top_k/top_10_categorical_accuracy: 0.0221 - factorized_top_k/top_50_categorical_accuracy: 0.0607 - factorized_top_k/top_100_categorical_accuracy: 0.0887 - loss: 61824.0773 - regularization_loss: 0.0000e+00 - total_loss: 61824.0773\n",
      "Epoch 6/20\n",
      "8/8 [==============================] - 95s 12s/step - factorized_top_k/top_1_categorical_accuracy: 0.0013 - factorized_top_k/top_5_categorical_accuracy: 0.0330 - factorized_top_k/top_10_categorical_accuracy: 0.0536 - factorized_top_k/top_50_categorical_accuracy: 0.1292 - factorized_top_k/top_100_categorical_accuracy: 0.1781 - loss: 61756.3958 - regularization_loss: 0.0000e+00 - total_loss: 61756.3958\n",
      "Epoch 7/20\n",
      "8/8 [==============================] - 95s 12s/step - factorized_top_k/top_1_categorical_accuracy: 0.0030 - factorized_top_k/top_5_categorical_accuracy: 0.0658 - factorized_top_k/top_10_categorical_accuracy: 0.1054 - factorized_top_k/top_50_categorical_accuracy: 0.2350 - factorized_top_k/top_100_categorical_accuracy: 0.3071 - loss: 61684.1510 - regularization_loss: 0.0000e+00 - total_loss: 61684.1510\n",
      "Epoch 8/20\n",
      "8/8 [==============================] - 95s 12s/step - factorized_top_k/top_1_categorical_accuracy: 0.0044 - factorized_top_k/top_5_categorical_accuracy: 0.1093 - factorized_top_k/top_10_categorical_accuracy: 0.1772 - factorized_top_k/top_50_categorical_accuracy: 0.3693 - factorized_top_k/top_100_categorical_accuracy: 0.4583 - loss: 61606.1120 - regularization_loss: 0.0000e+00 - total_loss: 61606.1120\n",
      "Epoch 9/20\n",
      "8/8 [==============================] - 94s 12s/step - factorized_top_k/top_1_categorical_accuracy: 0.0065 - factorized_top_k/top_5_categorical_accuracy: 0.1561 - factorized_top_k/top_10_categorical_accuracy: 0.2563 - factorized_top_k/top_50_categorical_accuracy: 0.5144 - factorized_top_k/top_100_categorical_accuracy: 0.6119 - loss: 61520.9245 - regularization_loss: 0.0000e+00 - total_loss: 61520.9245\n",
      "Epoch 10/20\n",
      "8/8 [==============================] - 94s 12s/step - factorized_top_k/top_1_categorical_accuracy: 0.0081 - factorized_top_k/top_5_categorical_accuracy: 0.1978 - factorized_top_k/top_10_categorical_accuracy: 0.3295 - factorized_top_k/top_50_categorical_accuracy: 0.6457 - factorized_top_k/top_100_categorical_accuracy: 0.7453 - loss: 61426.9987 - regularization_loss: 0.0000e+00 - total_loss: 61426.9987\n",
      "Epoch 11/20\n",
      "8/8 [==============================] - 99s 12s/step - factorized_top_k/top_1_categorical_accuracy: 0.0089 - factorized_top_k/top_5_categorical_accuracy: 0.2279 - factorized_top_k/top_10_categorical_accuracy: 0.3855 - factorized_top_k/top_50_categorical_accuracy: 0.7501 - factorized_top_k/top_100_categorical_accuracy: 0.8446 - loss: 61322.4670 - regularization_loss: 0.0000e+00 - total_loss: 61322.4670\n",
      "Epoch 12/20\n",
      "8/8 [==============================] - 98s 12s/step - factorized_top_k/top_1_categorical_accuracy: 0.0110 - factorized_top_k/top_5_categorical_accuracy: 0.2500 - factorized_top_k/top_10_categorical_accuracy: 0.4259 - factorized_top_k/top_50_categorical_accuracy: 0.8236 - factorized_top_k/top_100_categorical_accuracy: 0.9089 - loss: 61205.1411 - regularization_loss: 0.0000e+00 - total_loss: 61205.1411\n",
      "Epoch 13/20\n",
      "8/8 [==============================] - 95s 12s/step - factorized_top_k/top_1_categorical_accuracy: 0.0115 - factorized_top_k/top_5_categorical_accuracy: 0.2634 - factorized_top_k/top_10_categorical_accuracy: 0.4503 - factorized_top_k/top_50_categorical_accuracy: 0.8666 - factorized_top_k/top_100_categorical_accuracy: 0.9479 - loss: 61072.4123 - regularization_loss: 0.0000e+00 - total_loss: 61072.4123\n",
      "Epoch 14/20\n",
      "8/8 [==============================] - 94s 12s/step - factorized_top_k/top_1_categorical_accuracy: 0.0122 - factorized_top_k/top_5_categorical_accuracy: 0.2709 - factorized_top_k/top_10_categorical_accuracy: 0.4627 - factorized_top_k/top_50_categorical_accuracy: 0.8904 - factorized_top_k/top_100_categorical_accuracy: 0.9667 - loss: 60921.1901 - regularization_loss: 0.0000e+00 - total_loss: 60921.1901\n",
      "Epoch 15/20\n",
      "8/8 [==============================] - 94s 12s/step - factorized_top_k/top_1_categorical_accuracy: 0.0133 - factorized_top_k/top_5_categorical_accuracy: 0.2752 - factorized_top_k/top_10_categorical_accuracy: 0.4692 - factorized_top_k/top_50_categorical_accuracy: 0.9010 - factorized_top_k/top_100_categorical_accuracy: 0.9751 - loss: 60747.8038 - regularization_loss: 0.0000e+00 - total_loss: 60747.8038\n",
      "Epoch 16/20\n",
      "8/8 [==============================] - 94s 12s/step - factorized_top_k/top_1_categorical_accuracy: 0.0138 - factorized_top_k/top_5_categorical_accuracy: 0.2768 - factorized_top_k/top_10_categorical_accuracy: 0.4717 - factorized_top_k/top_50_categorical_accuracy: 0.9054 - factorized_top_k/top_100_categorical_accuracy: 0.9782 - loss: 60547.9427 - regularization_loss: 0.0000e+00 - total_loss: 60547.9427\n",
      "Epoch 17/20\n",
      "8/8 [==============================] - 94s 12s/step - factorized_top_k/top_1_categorical_accuracy: 0.0138 - factorized_top_k/top_5_categorical_accuracy: 0.2788 - factorized_top_k/top_10_categorical_accuracy: 0.4732 - factorized_top_k/top_50_categorical_accuracy: 0.9064 - factorized_top_k/top_100_categorical_accuracy: 0.9785 - loss: 60316.7201 - regularization_loss: 0.0000e+00 - total_loss: 60316.7201\n",
      "Epoch 18/20\n",
      "8/8 [==============================] - 93s 11s/step - factorized_top_k/top_1_categorical_accuracy: 0.0145 - factorized_top_k/top_5_categorical_accuracy: 0.2801 - factorized_top_k/top_10_categorical_accuracy: 0.4730 - factorized_top_k/top_50_categorical_accuracy: 0.9057 - factorized_top_k/top_100_categorical_accuracy: 0.9781 - loss: 60048.9549 - regularization_loss: 0.0000e+00 - total_loss: 60048.9549\n",
      "Epoch 19/20\n",
      "8/8 [==============================] - 93s 12s/step - factorized_top_k/top_1_categorical_accuracy: 0.0153 - factorized_top_k/top_5_categorical_accuracy: 0.2810 - factorized_top_k/top_10_categorical_accuracy: 0.4733 - factorized_top_k/top_50_categorical_accuracy: 0.9046 - factorized_top_k/top_100_categorical_accuracy: 0.9774 - loss: 59740.0903 - regularization_loss: 0.0000e+00 - total_loss: 59740.0903\n",
      "Epoch 20/20\n"
     ]
    },
    {
     "name": "stdout",
     "output_type": "stream",
     "text": [
      "8/8 [==============================] - 93s 12s/step - factorized_top_k/top_1_categorical_accuracy: 0.0159 - factorized_top_k/top_5_categorical_accuracy: 0.2820 - factorized_top_k/top_10_categorical_accuracy: 0.4741 - factorized_top_k/top_50_categorical_accuracy: 0.9034 - factorized_top_k/top_100_categorical_accuracy: 0.9768 - loss: 59387.6337 - regularization_loss: 0.0000e+00 - total_loss: 59387.6337\n",
      "5/5 [==============================] - 34s 6s/step - factorized_top_k/top_1_categorical_accuracy: 5.0000e-05 - factorized_top_k/top_5_categorical_accuracy: 3.0000e-04 - factorized_top_k/top_10_categorical_accuracy: 5.0000e-04 - factorized_top_k/top_50_categorical_accuracy: 0.0033 - factorized_top_k/top_100_categorical_accuracy: 0.0060 - loss: 32603.2181 - regularization_loss: 0.0000e+00 - total_loss: 32603.2181\n"
     ]
    },
    {
     "data": {
      "text/plain": [
       "{'factorized_top_k/top_1_categorical_accuracy': 4.999999873689376e-05,\n",
       " 'factorized_top_k/top_5_categorical_accuracy': 0.0003000000142492354,\n",
       " 'factorized_top_k/top_10_categorical_accuracy': 0.0005000000237487257,\n",
       " 'factorized_top_k/top_50_categorical_accuracy': 0.0032999999821186066,\n",
       " 'factorized_top_k/top_100_categorical_accuracy': 0.006000000052154064,\n",
       " 'loss': 29641.61328125,\n",
       " 'regularization_loss': 0,\n",
       " 'total_loss': 29641.61328125}"
      ]
     },
     "execution_count": 8,
     "metadata": {},
     "output_type": "execute_result"
    }
   ],
   "source": [
    "### Fitting and evaluating\n",
    "\n",
    "### we choose the dimensionality of the query and candicate representation.\n",
    "embedding_dimension = 512\n",
    "\n",
    "## we pass the model, which is the same model we created in the query and candidate tower, into the model\n",
    "item_model = tf.keras.Sequential([\n",
    "                                tf.keras.layers.experimental.preprocessing.StringLookup(\n",
    "                                vocabulary=unique_item_titles, mask_token=None),\n",
    "                                tf.keras.layers.Embedding(len(unique_item_titles) + 1, embedding_dimension)\n",
    "                                ])\n",
    "\n",
    "user_model = tf.keras.Sequential([\n",
    "                                tf.keras.layers.experimental.preprocessing.StringLookup(\n",
    "                                vocabulary=unique_user_ids, mask_token=None),\n",
    "                                # We add an additional embedding to account for unknown tokens.\n",
    "                                tf.keras.layers.Embedding(len(unique_user_ids) + 1, embedding_dimension)\n",
    "                                ])\n",
    "\n",
    "model = RetailModel(user_model, item_model)\n",
    "\n",
    "# a smaller learning rate may make the model move slower and prone to overfitting, so we stick to 0.1\n",
    "# other optimizers, such as SGD and Adam, are listed here https://www.tensorflow.org/api_docs/python/tf/keras/optimizers\n",
    "model.compile(optimizer=tf.keras.optimizers.SGD())\n",
    "\n",
    "cached_train = train.shuffle(100_000).batch(8192).cache()\n",
    "cached_test = test.batch(4096).cache()\n",
    "\n",
    "## fit the model with ten epochs\n",
    "model_hist = model.fit(cached_train, epochs=20)\n",
    "\n",
    "#evaluate the model\n",
    "model.evaluate(cached_test, return_dict=True)"
   ]
  },
  {
   "cell_type": "code",
   "execution_count": 9,
   "id": "d83ceb30",
   "metadata": {},
   "outputs": [
    {
     "name": "stdout",
     "output_type": "stream",
     "text": [
      "5/5 [==============================] - 31s 6s/step - factorized_top_k/top_1_categorical_accuracy: 5.0000e-05 - factorized_top_k/top_5_categorical_accuracy: 3.0000e-04 - factorized_top_k/top_10_categorical_accuracy: 5.0000e-04 - factorized_top_k/top_50_categorical_accuracy: 0.0033 - factorized_top_k/top_100_categorical_accuracy: 0.0060 - loss: 32603.2181 - regularization_loss: 0.0000e+00 - total_loss: 32603.2181\n"
     ]
    },
    {
     "data": {
      "text/plain": [
       "{'factorized_top_k/top_1_categorical_accuracy': 4.999999873689376e-05,\n",
       " 'factorized_top_k/top_5_categorical_accuracy': 0.0003000000142492354,\n",
       " 'factorized_top_k/top_10_categorical_accuracy': 0.0005000000237487257,\n",
       " 'factorized_top_k/top_50_categorical_accuracy': 0.0032999999821186066,\n",
       " 'factorized_top_k/top_100_categorical_accuracy': 0.006000000052154064,\n",
       " 'loss': 29641.61328125,\n",
       " 'regularization_loss': 0,\n",
       " 'total_loss': 29641.61328125}"
      ]
     },
     "execution_count": 9,
     "metadata": {},
     "output_type": "execute_result"
    }
   ],
   "source": [
    "model.evaluate(cached_test, return_dict=True)"
   ]
  },
  {
   "cell_type": "code",
   "execution_count": 10,
   "id": "afc8cfa6",
   "metadata": {},
   "outputs": [
    {
     "data": {
      "text/plain": [
       "array([b'0108775015', b'0108775044', b'0108775051', ..., b'0953450001',\n",
       "       b'0953763001', b'0956217002'], dtype=object)"
      ]
     },
     "execution_count": 10,
     "metadata": {},
     "output_type": "execute_result"
    }
   ],
   "source": [
    "unique_item_titles"
   ]
  },
  {
   "cell_type": "code",
   "execution_count": 11,
   "id": "ee76ddfa",
   "metadata": {},
   "outputs": [
    {
     "data": {
      "text/plain": [
       "array([b'00000dbacae5abe5e23885899a1fa44253a17956c6d1c3d25f88aa139fdfc657',\n",
       "       b'0000423b00ade91418cceaf3b26c6af3dd342b51fd051eec9c12fb36984420fa',\n",
       "       b'000058a12d5b43e67d225668fa1f8d618c13dc232df0cad8ffe7ad4a1091e318',\n",
       "       ...,\n",
       "       b'ffffcf35913a0bee60e8741cb2b4e78b8a98ee5ff2e6a1778d0116cffd259264',\n",
       "       b'ffffd7744cebcf3aca44ae7049d2a94b87074c3d4ffe38b2236865d949d4df6a',\n",
       "       b'ffffd9ac14e89946416d80e791d064701994755c3ab686a1eaf3458c36f52241'],\n",
       "      dtype=object)"
      ]
     },
     "execution_count": 11,
     "metadata": {},
     "output_type": "execute_result"
    }
   ],
   "source": [
    "unique_user_ids "
   ]
  },
  {
   "cell_type": "code",
   "execution_count": 12,
   "id": "953f0563",
   "metadata": {},
   "outputs": [
    {
     "data": {
      "text/plain": [
       "<TakeDataset shapes: {customer_id: (), article_id: (), quantity: ()}, types: {customer_id: tf.string, article_id: tf.string, quantity: tf.float32}>"
      ]
     },
     "execution_count": 12,
     "metadata": {},
     "output_type": "execute_result"
    }
   ],
   "source": [
    "train"
   ]
  },
  {
   "cell_type": "code",
   "execution_count": 13,
   "id": "47c0f0c3",
   "metadata": {},
   "outputs": [
    {
     "data": {
      "text/plain": [
       "<tensorflow_recommenders.layers.factorized_top_k.BruteForce at 0x16fc67bad00>"
      ]
     },
     "execution_count": 13,
     "metadata": {},
     "output_type": "execute_result"
    }
   ],
   "source": [
    "index = tfrs.layers.factorized_top_k.BruteForce(model.user_model)\n",
    "index.index_from_dataset(items.batch(100).map(lambda items: (items,model.item_model(items))))"
   ]
  },
  {
   "cell_type": "code",
   "execution_count": 14,
   "id": "0d952af8",
   "metadata": {},
   "outputs": [
    {
     "name": "stdout",
     "output_type": "stream",
     "text": [
      "Recommendations for user 000231cc9af9e58ab4edc66fbd61da921b144ba85bc1c00d0ae2309531e4c210: [b'0686331005' b'0120129001' b'0706016001' b'0772902001' b'0827968004'\n",
      " b'0618800001' b'0510321001' b'0160442007' b'0641426006' b'0554479005'\n",
      " b'0730863014' b'0629420019']\n"
     ]
    }
   ],
   "source": [
    "j = '000231cc9af9e58ab4edc66fbd61da921b144ba85bc1c00d0ae2309531e4c210'\n",
    "_, titles = index(tf.constant([j]),k=12)\n",
    "print(f\"Recommendations for user %s: {titles[0]}\" %(j))"
   ]
  },
  {
   "cell_type": "code",
   "execution_count": 15,
   "id": "dd1941b0",
   "metadata": {},
   "outputs": [],
   "source": [
    "def run_f(item):\n",
    "    _, titles = index(tf.constant([item]),k=12)\n",
    "    t = np.array(titles[0])\n",
    "    l = [el.decode('UTF-8') for el in t]\n",
    "    l = \" \".join(l)\n",
    "    return l"
   ]
  },
  {
   "cell_type": "code",
   "execution_count": null,
   "id": "9f372f61",
   "metadata": {},
   "outputs": [],
   "source": [
    "submission_file = pd.read_csv('h-and-m-personalized-fashion-recommendations/sample_submission.csv')\n",
    "sub_cust = submission_file[\"customer_id\"]\n",
    "sub_df = pd.DataFrame(columns=['Customer_Id', 'Article_Id'])\n",
    "submission_file[\"prediction\"] = submission_file['customer_id'].apply(run_f)\n",
    "submission_file"
   ]
  },
  {
   "cell_type": "code",
   "execution_count": null,
   "id": "3d571bb3",
   "metadata": {},
   "outputs": [],
   "source": [
    "submission_file.to_csv('submission.csv',index=False)"
   ]
  },
  {
   "cell_type": "code",
   "execution_count": null,
   "id": "a6404534",
   "metadata": {},
   "outputs": [],
   "source": []
  }
 ],
 "metadata": {
  "kernelspec": {
   "display_name": "Python 3 (ipykernel)",
   "language": "python",
   "name": "python3"
  },
  "language_info": {
   "codemirror_mode": {
    "name": "ipython",
    "version": 3
   },
   "file_extension": ".py",
   "mimetype": "text/x-python",
   "name": "python",
   "nbconvert_exporter": "python",
   "pygments_lexer": "ipython3",
   "version": "3.8.11"
  }
 },
 "nbformat": 4,
 "nbformat_minor": 5
}
