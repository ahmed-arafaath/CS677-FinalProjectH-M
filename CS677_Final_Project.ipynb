{
 "cells": [
  {
   "cell_type": "markdown",
   "id": "65d984fe",
   "metadata": {},
   "source": [
    "CS 677 Final Project  \n",
    "Sajin Shajee  \n",
    "Sunny Gajjar  \n",
    "Ahmed Arafaath  \n",
    "Rohit Subramanian   "
   ]
  },
  {
   "cell_type": "code",
   "execution_count": 1,
   "id": "405e34ff",
   "metadata": {},
   "outputs": [
    {
     "name": "stdout",
     "output_type": "stream",
     "text": [
      "No GPU was detected. LSTMs and CNNs can be very slow without a GPU.\n"
     ]
    }
   ],
   "source": [
    "# Python ≥3.5 is required\n",
    "import sys\n",
    "assert sys.version_info >= (3, 5)\n",
    "\n",
    "# Is this notebook running on Colab or Kaggle?\n",
    "IS_COLAB = \"google.colab\" in sys.modules\n",
    "IS_KAGGLE = \"kaggle_secrets\" in sys.modules\n",
    "\n",
    "# Scikit-Learn ≥0.20 is required\n",
    "import sklearn\n",
    "assert sklearn.__version__ >= \"0.20\"\n",
    "\n",
    "# TensorFlow ≥2.0 is required\n",
    "import tensorflow as tf\n",
    "from typing import Dict, Text\n",
    "from tensorflow import keras\n",
    "from tqdm.notebook import tqdm\n",
    "tqdm.pandas()\n",
    "import tensorflow_recommenders as tfrs\n",
    "try:\n",
    "    if not tf.config.list_physical_devices('GPU'):\n",
    "        assert tf.__version__ >= \"2.0\"\n",
    "        print(\"No GPU was detected. LSTMs and CNNs can be very slow without a GPU.\")\n",
    "        if IS_COLAB:\n",
    "            print(\"Go to Runtime > Change runtime and select a GPU hardware accelerator.\")\n",
    "        if IS_KAGGLE:\n",
    "            print(\"Go to Settings > Accelerator and select GPU.\")\n",
    "except:\n",
    "    if not tf.test.is_gpu_available():\n",
    "        assert tf.__version__ >= \"2.0\"\n",
    "        print(\"No GPU was detected. LSTMs and CNNs can be very slow without a GPU.\")\n",
    "        if IS_COLAB:\n",
    "            print(\"Go to Runtime > Change runtime and select a GPU hardware accelerator.\")\n",
    "        if IS_KAGGLE:\n",
    "            print(\"Go to Settings > Accelerator and select GPU.\")\n",
    "\n",
    "# Common imports\n",
    "import numpy as np\n",
    "import pandas as pd\n",
    "import sklearn.preprocessing\n",
    "from sklearn.linear_model import LinearRegression\n",
    "from sklearn.metrics import mean_squared_error\n",
    "import os\n",
    "import datetime as dt\n",
    "from pathlib import Path\n",
    "\n",
    "# to make this notebook's output stable across runs\n",
    "np.random.seed(42)\n",
    "try:\n",
    "    if not tf.config.list_physical_devices('GPU'):\n",
    "        tf.random.set_seed(42)\n",
    "    else:\n",
    "        tf.random.set_random_seed(42)\n",
    "except:\n",
    "    if not tf.test.is_gpu_available():\n",
    "        tf.random.set_seed(42)\n",
    "    else:\n",
    "        tf.random.set_random_seed(42)\n",
    "\n",
    "# To plot pretty figures\n",
    "%matplotlib inline\n",
    "import matplotlib as mpl\n",
    "import matplotlib.pyplot as plt\n",
    "mpl.rc('axes', labelsize=14)\n",
    "mpl.rc('xtick', labelsize=12)\n",
    "mpl.rc('ytick', labelsize=12)"
   ]
  },
  {
   "cell_type": "markdown",
   "id": "d43c8c24",
   "metadata": {},
   "source": [
    "zero_f function is suppose to convert customer id to string then adds to the right until the length of id is 10 characters long."
   ]
  },
  {
   "cell_type": "code",
   "execution_count": 2,
   "id": "3dfcb29a",
   "metadata": {},
   "outputs": [],
   "source": [
    "def zero_f(item):\n",
    "    item=str(item)\n",
    "    tem=len(item)\n",
    "    if(len(item)<10):\n",
    "        item=item.zfill(10)\n",
    "    return item"
   ]
  },
  {
   "cell_type": "code",
   "execution_count": 3,
   "id": "b54c2c61",
   "metadata": {},
   "outputs": [
    {
     "data": {
      "text/plain": [
       "359222"
      ]
     },
     "execution_count": 3,
     "metadata": {},
     "output_type": "execute_result"
    }
   ],
   "source": [
    "trans_train = pd.read_csv('h-and-m-personalized-fashion-recommendations/transactions_train.csv',dtype={'customer_id': str,'article_id':str})\n",
    "trans_train['quantity']=1\n",
    "trans_train = trans_train[trans_train['t_dat'] >'2020-08-01']\n",
    "articles= pd.read_csv('h-and-m-personalized-fashion-recommendations/articles.csv',dtype={'article_id': str,'product_code':str})\n",
    "customers = pd.read_csv('h-and-m-personalized-fashion-recommendations/customers.csv',dtype={'customer_id':str})\n",
    "master_df = trans_train[['customer_id','article_id','t_dat']].astype(str)\n",
    "master_df['article_id']=master_df['article_id'].apply(zero_f)\n",
    "master_df['quantity'] = trans_train['quantity'].astype(float)\n",
    "masterdf = master_df\n",
    "len(np.unique(trans_train['customer_id']))"
   ]
  },
  {
   "cell_type": "code",
   "execution_count": 4,
   "id": "84618e18",
   "metadata": {},
   "outputs": [
    {
     "name": "stdout",
     "output_type": "stream",
     "text": [
      "329034\n"
     ]
    }
   ],
   "source": [
    "interactions = masterdf\n",
    "interactions['t_dat']=pd.to_datetime(interactions['t_dat'])\n",
    "train = interactions[interactions['t_dat']<='2020-09-15']\n",
    "valid = interactions[(interactions['t_dat'] <='2019-09-17')&(interactions['t_dat'] >'2019-09-15')]\n",
    "test = interactions[interactions['t_dat'] >'2019-09-17']\n",
    "print(len(np.unique(train['customer_id'])))\n",
    "train_ds = tf.data.Dataset.from_tensor_slices(dict(train[['customer_id','article_id']])).shuffle(100_000).batch(256).cache()\n",
    "valid_ds = tf.data.Dataset.from_tensor_slices(dict(valid[['customer_id','article_id']])).batch(256).cache()\n",
    "test_ds = tf.data.Dataset.from_tensor_slices(dict(test[['customer_id','article_id']])).batch(256).cache()"
   ]
  },
  {
   "cell_type": "code",
   "execution_count": 5,
   "id": "98e142d3",
   "metadata": {},
   "outputs": [],
   "source": [
    "items_dict = articles[['article_id']].drop_duplicates()\n",
    "customer_dict=customers[['customer_id']].drop_duplicates()\n",
    "items_dict = {name: np.array(value) for name, value in items_dict.items()}\n",
    "customer_dict={name:np.array(value) for name,value in customer_dict.items()}\n",
    "customers=tf.data.Dataset.from_tensor_slices(customer_dict)\n",
    "items = tf.data.Dataset.from_tensor_slices(items_dict)\n",
    "items = items.map(lambda x: x['article_id'])\n",
    "customers=customers.map(lambda x: x['customer_id'])"
   ]
  },
  {
   "cell_type": "code",
   "execution_count": 6,
   "id": "22e083ec",
   "metadata": {},
   "outputs": [],
   "source": [
    "### get unique item and user id's as a lookup table\n",
    "unique_items = np.unique(np.concatenate(list(items.batch(1_000))))\n",
    "unique_user_ids = np.unique(np.concatenate(list(customers.batch(1_000))))\n",
    "\n",
    "# Randomly shuffle data and split between train and test.\n",
    "tf.random.set_seed(42)"
   ]
  },
  {
   "cell_type": "code",
   "execution_count": 7,
   "id": "5e3ed5e8",
   "metadata": {},
   "outputs": [],
   "source": [
    "def my_l1_regularizer(weights):\n",
    "    return tf.reduce_sum(tf.abs(0.01 * weights))\n",
    "def my_positive_weights(weights): # return value is just tf.nn.relu(weights)\n",
    "    return tf.where(weights < 0., tf.zeros_like(weights), weights)"
   ]
  },
  {
   "cell_type": "markdown",
   "id": "f8d7071e",
   "metadata": {},
   "source": [
    "Combines user model with item model to generate best recommendations"
   ]
  },
  {
   "cell_type": "code",
   "execution_count": 8,
   "id": "417a70c4",
   "metadata": {},
   "outputs": [],
   "source": [
    "class CandidateModel(tfrs.Model):\n",
    "\n",
    "    def __init__(self, user_model, item_model):\n",
    "        super().__init__()\n",
    "        \n",
    "        self.item_model: tf.keras.Model = item_model\n",
    "        self.user_model: tf.keras.Model = user_model\n",
    "        \n",
    "        ### for retrieval model. we take top-k accuracy as metrics\n",
    "        metrics = tfrs.metrics.FactorizedTopK(candidates=items.batch(256).map(item_model))\n",
    "        \n",
    "        # define the task, which is retrieval                                    )    \n",
    "        task = tfrs.tasks.Retrieval(metrics=metrics)\n",
    "       \n",
    "        self.task: tf.keras.layers.Layer = task\n",
    "\n",
    "    def compute_loss(self, features: Dict[Text, tf.Tensor], training=False) -> tf.Tensor:\n",
    "        # We pick out the user features and pass them into the user model.\n",
    "        user_embeddings = self.user_model(features[\"customer_id\"])\n",
    "\n",
    "        article_embeddings = self.item_model(features[\"article_id\"])\n",
    "\n",
    "        # The task computes the loss and the metrics.\n",
    "        return self.task(user_embeddings, article_embeddings)"
   ]
  },
  {
   "cell_type": "markdown",
   "id": "f057da01",
   "metadata": {},
   "source": [
    "Orignal model"
   ]
  },
  {
   "cell_type": "code",
   "execution_count": null,
   "id": "8ea09cc7",
   "metadata": {},
   "outputs": [],
   "source": [
    "### Fitting and evaluating\n",
    "\n",
    "### we choose the dimensionality of the query and candicate representation.\n",
    "embedding_dimension = 64\n",
    "\n",
    "## we pass the model, which is the same model we created in the query and candidate tower, into the model\n",
    "item_model = tf.keras.Sequential([\n",
    "                                tf.keras.layers.StringLookup(\n",
    "                                vocabulary=unique_items, mask_token=None),\n",
    "                                tf.keras.layers.Embedding(len(unique_items) + 1, embedding_dimension)\n",
    "                                ])\n",
    "\n",
    "user_model = tf.keras.Sequential([\n",
    "                                tf.keras.layers.StringLookup(\n",
    "                                vocabulary=unique_user_ids, mask_token=None),\n",
    "                                # We add an additional embedding to account for unknown tokens.\n",
    "                                tf.keras.layers.Embedding(len(unique_user_ids) + 1, embedding_dimension)\n",
    "                                ])\n",
    "\n",
    "model = CandidateModel(user_model, item_model)\n",
    "model.compile(optimizer=tf.keras.optimizers.Adagrad(0.1))\n",
    "model.fit(train_ds,epochs=5,batch_size=128)\n",
    "model.evaluate(test_ds, return_dict=True)"
   ]
  },
  {
   "cell_type": "markdown",
   "id": "b26f47b1",
   "metadata": {},
   "source": [
    "Improvements to models"
   ]
  },
  {
   "cell_type": "code",
   "execution_count": null,
   "id": "5711d538",
   "metadata": {},
   "outputs": [
    {
     "name": "stdout",
     "output_type": "stream",
     "text": [
      "Epoch 1/5\n",
      "1933/6849 [=======>......................] - ETA: 35:53 - factorized_top_k/top_1_categorical_accuracy: 0.3670 - factorized_top_k/top_5_categorical_accuracy: 0.3671 - factorized_top_k/top_10_categorical_accuracy: 0.5278 - factorized_top_k/top_50_categorical_accuracy: 0.5278 - factorized_top_k/top_100_categorical_accuracy: 0.5279 - loss: 1419.5660 - regularization_loss: 0.0564 - total_loss: 1419.6224"
     ]
    }
   ],
   "source": [
    "### Fitting and evaluating\n",
    "\n",
    "### we choose the dimensionality of the query and candicate representation.\n",
    "embedding_dimension = 64\n",
    "\n",
    "## we pass the model, which is the same model we created in the query and candidate tower, into the model\n",
    "item_model = tf.keras.Sequential([\n",
    "                                tf.keras.layers.StringLookup(\n",
    "                                vocabulary=unique_items, mask_token=None),\n",
    "                                tf.keras.layers.Embedding(len(unique_items) + 1, embedding_dimension),\n",
    "                                tf.keras.layers.Flatten(),\n",
    "                                tf.keras.layers.Dense((embedding_dimension),activation=\"relu\",kernel_initializer='he_normal',use_bias=False),\n",
    "                                tf.keras.layers.BatchNormalization(),\n",
    "                                tf.keras.layers.Dense((embedding_dimension),activation=\"relu\",kernel_initializer='he_normal',use_bias=False),\n",
    "                                tf.keras.layers.BatchNormalization(),\n",
    "                                tf.keras.layers.Dropout(0.2),\n",
    "                                tf.keras.layers.Dense((embedding_dimension),activation=\"softmax\",kernel_regularizer=my_l1_regularizer,kernel_constraint=my_positive_weights)\n",
    "                                ])\n",
    "\n",
    "user_model = tf.keras.Sequential([\n",
    "                                tf.keras.layers.StringLookup(\n",
    "                                vocabulary=unique_user_ids, mask_token=None),\n",
    "                                # We add an additional embedding to account for unknown tokens.\n",
    "                                tf.keras.layers.Embedding(len(unique_user_ids) + 1, embedding_dimension),\n",
    "                                tf.keras.layers.Flatten(),\n",
    "                                tf.keras.layers.Dense((embedding_dimension),activation=\"relu\",kernel_initializer='he_normal',use_bias=False),\n",
    "                                tf.keras.layers.BatchNormalization(),\n",
    "                                tf.keras.layers.Dense((embedding_dimension),activation=\"relu\",kernel_initializer='he_normal',use_bias=False),\n",
    "                                tf.keras.layers.BatchNormalization(),\n",
    "                                tf.keras.layers.Dropout(0.2),\n",
    "                                tf.keras.layers.Dense((embedding_dimension),activation=\"relu\",kernel_initializer='he_normal',use_bias=False),\n",
    "                                tf.keras.layers.BatchNormalization(),\n",
    "                                tf.keras.layers.Dropout(0.2),\n",
    "                                tf.keras.layers.Dense((embedding_dimension),activation=\"relu\",kernel_initializer='he_normal',use_bias=False),\n",
    "                                tf.keras.layers.BatchNormalization(),\n",
    "                                tf.keras.layers.Dropout(0.2),\n",
    "                                tf.keras.layers.Dense((embedding_dimension),activation=\"relu\",kernel_initializer='he_normal',use_bias=False),\n",
    "                                tf.keras.layers.BatchNormalization(),\n",
    "                                tf.keras.layers.Dropout(0.2),\n",
    "                                tf.keras.layers.Dense((embedding_dimension),kernel_regularizer=my_l1_regularizer,kernel_constraint=my_positive_weights)\n",
    "                                ])\n",
    "\n",
    "model = CandidateModel(user_model, item_model)\n",
    "model.compile(optimizer=tf.keras.optimizers.Adagrad(0.1))\n",
    "model.fit(train_ds,validation_data=valid_ds,epochs=5,batch_size=128)\n",
    "model.evaluate(test_ds, return_dict=True)"
   ]
  },
  {
   "cell_type": "code",
   "execution_count": null,
   "id": "afc8cfa6",
   "metadata": {},
   "outputs": [],
   "source": [
    "unique_items"
   ]
  },
  {
   "cell_type": "code",
   "execution_count": null,
   "id": "ee76ddfa",
   "metadata": {},
   "outputs": [],
   "source": [
    "unique_user_ids "
   ]
  },
  {
   "cell_type": "code",
   "execution_count": null,
   "id": "47c0f0c3",
   "metadata": {},
   "outputs": [],
   "source": [
    "index = tfrs.layers.factorized_top_k.BruteForce(model.user_model)\n",
    "index.index_from_dataset(items.batch(100).map(lambda items: (items,model.item_model(items))))"
   ]
  },
  {
   "cell_type": "code",
   "execution_count": null,
   "id": "0d952af8",
   "metadata": {},
   "outputs": [],
   "source": [
    "j = '000231cc9af9e58ab4edc66fbd61da921b144ba85bc1c00d0ae2309531e4c210'\n",
    "_, titles = index(tf.constant([j]),k=12)\n",
    "print(f\"Recommendations for user %s: {titles[0]}\" %(j))"
   ]
  },
  {
   "cell_type": "code",
   "execution_count": null,
   "id": "dd1941b0",
   "metadata": {},
   "outputs": [],
   "source": [
    "def decoder(e):\n",
    "    return e.decode('UTF-8')\n",
    "def run_f(item):\n",
    "    _, titles = index(tf.constant([item]),k=12)\n",
    "    t = np.array(titles[0])\n",
    "    vfunc = np.vectorize(decoder)\n",
    "    l = vfunc(t)\n",
    "    l = \" \".join(l)\n",
    "    return l"
   ]
  },
  {
   "cell_type": "markdown",
   "id": "3cafd9e7",
   "metadata": {},
   "source": [
    "This indicates the process that was used to convert values for each customer into a string of values. These values are added into the csv file. TQDM provides a progress bar that indicates the progress of the transformations indicated with the apply function."
   ]
  },
  {
   "cell_type": "code",
   "execution_count": null,
   "id": "9f372f61",
   "metadata": {},
   "outputs": [],
   "source": [
    "submission_file = pd.read_csv('h-and-m-personalized-fashion-recommendations/sample_submission.csv',dtype={'customer_id': str})\n",
    "sub_cust = submission_file[\"customer_id\"]\n",
    "sub_df = pd.DataFrame(columns=['Customer_Id', 'Article_Id'])\n",
    "submission_file[\"prediction\"] = submission_file['customer_id'].progress_apply(run_f)\n",
    "submission_file.head()"
   ]
  },
  {
   "cell_type": "code",
   "execution_count": null,
   "id": "3d571bb3",
   "metadata": {},
   "outputs": [],
   "source": [
    "submission_file.to_csv('submission.csv',index=False)"
   ]
  },
  {
   "cell_type": "code",
   "execution_count": null,
   "id": "41466a4d",
   "metadata": {},
   "outputs": [],
   "source": []
  }
 ],
 "metadata": {
  "kernelspec": {
   "display_name": "Python 3 (ipykernel)",
   "language": "python",
   "name": "python3"
  },
  "language_info": {
   "codemirror_mode": {
    "name": "ipython",
    "version": 3
   },
   "file_extension": ".py",
   "mimetype": "text/x-python",
   "name": "python",
   "nbconvert_exporter": "python",
   "pygments_lexer": "ipython3",
   "version": "3.8.11"
  }
 },
 "nbformat": 4,
 "nbformat_minor": 5
}
