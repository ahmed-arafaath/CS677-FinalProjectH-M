{
 "cells": [
  {
   "cell_type": "code",
   "execution_count": 1,
   "id": "405e34ff",
   "metadata": {},
   "outputs": [
    {
     "name": "stdout",
     "output_type": "stream",
     "text": [
      "No GPU was detected. LSTMs and CNNs can be very slow without a GPU.\n"
     ]
    }
   ],
   "source": [
    "# Python ≥3.5 is required\n",
    "import sys\n",
    "assert sys.version_info >= (3, 5)\n",
    "\n",
    "# Is this notebook running on Colab or Kaggle?\n",
    "IS_COLAB = \"google.colab\" in sys.modules\n",
    "IS_KAGGLE = \"kaggle_secrets\" in sys.modules\n",
    "\n",
    "# Scikit-Learn ≥0.20 is required\n",
    "import sklearn\n",
    "assert sklearn.__version__ >= \"0.20\"\n",
    "\n",
    "# TensorFlow ≥2.0 is required\n",
    "import tensorflow as tf\n",
    "from tensorflow import keras\n",
    "import tensorflow_recommenders as tfrs\n",
    "try:\n",
    "    if not tf.config.list_physical_devices('GPU'):\n",
    "        assert tf.__version__ >= \"2.0\"\n",
    "        print(\"No GPU was detected. LSTMs and CNNs can be very slow without a GPU.\")\n",
    "        if IS_COLAB:\n",
    "            print(\"Go to Runtime > Change runtime and select a GPU hardware accelerator.\")\n",
    "        if IS_KAGGLE:\n",
    "            print(\"Go to Settings > Accelerator and select GPU.\")\n",
    "except:\n",
    "    if not tf.test.is_gpu_available():\n",
    "        assert tf.__version__ >= \"2.0\"\n",
    "        print(\"No GPU was detected. LSTMs and CNNs can be very slow without a GPU.\")\n",
    "        if IS_COLAB:\n",
    "            print(\"Go to Runtime > Change runtime and select a GPU hardware accelerator.\")\n",
    "        if IS_KAGGLE:\n",
    "            print(\"Go to Settings > Accelerator and select GPU.\")\n",
    "\n",
    "# Common imports\n",
    "import numpy as np\n",
    "import pandas as pd\n",
    "import sklearn.preprocessing\n",
    "from sklearn.linear_model import LinearRegression\n",
    "from sklearn.metrics import mean_squared_error\n",
    "import os\n",
    "import datetime as dt\n",
    "from pathlib import Path\n",
    "\n",
    "# to make this notebook's output stable across runs\n",
    "np.random.seed(42)\n",
    "try:\n",
    "    if not tf.config.list_physical_devices('GPU'):\n",
    "        tf.random.set_seed(42)\n",
    "    else:\n",
    "        tf.random.set_random_seed(42)\n",
    "except:\n",
    "    if not tf.test.is_gpu_available():\n",
    "        tf.random.set_seed(42)\n",
    "    else:\n",
    "        tf.random.set_random_seed(42)\n",
    "\n",
    "# To plot pretty figures\n",
    "%matplotlib inline\n",
    "import matplotlib as mpl\n",
    "import matplotlib.pyplot as plt\n",
    "mpl.rc('axes', labelsize=14)\n",
    "mpl.rc('xtick', labelsize=12)\n",
    "mpl.rc('ytick', labelsize=12)"
   ]
  },
  {
   "cell_type": "code",
   "execution_count": 2,
   "id": "aaa2f559",
   "metadata": {},
   "outputs": [],
   "source": [
    "def read_files(file_path, **kwargs):\n",
    "    \n",
    "    art_df_args = dict(filepath_or_buffer=file_path + 'articles.csv',low_memory = False)\n",
    "    if 'art_cols' in kwargs:\n",
    "        art_df_args['usecols']=kwargs['art_cols']\n",
    "    \n",
    "    cust_df_args = dict(filepath_or_buffer=file_path + 'customers.csv', low_memory = False)\n",
    "    if  'cust_cols' in  kwargs:\n",
    "        cust_df_args['usecols']=kwargs['cust_cols']\n",
    "    \n",
    "    trans_df_args= dict(filepath_or_buffer=file_path + 'transactions_train.csv', low_memory = False)\n",
    "    if  'trans_cols' in kwargs:\n",
    "        trans_df_args['usecols']=kwargs['trans_cols']\n",
    "    \n",
    "    art_df = pd.read_csv(**art_df_args)\n",
    "    cust_df = pd.read_csv(**cust_df_args)\n",
    "    trans_df= pd.read_csv(**trans_df_args)\n",
    "    \n",
    "    customer_lookup = cust_df.reset_index().set_index('customer_id')['index'].astype(str).to_dict()\n",
    "    article_lookup =art_df.reset_index().set_index('article_id')['index'].astype(str).to_dict()\n",
    "    \n",
    "    trans_df['user_id']= trans_df['customer_id'].map(customer_lookup)\n",
    "    trans_df['item_id']= trans_df['article_id'].map(article_lookup)\n",
    "    \n",
    "    unique_users = trans_df['user_id'].unique()\n",
    "    unique_items = trans_df['item_id'].unique()\n",
    "    \n",
    "    trans_df = trans_df.drop(columns =['customer_id','article_id'])\n",
    "    \n",
    "    return customer_lookup, article_lookup, trans_df, unique_users, unique_items\n"
   ]
  },
  {
   "cell_type": "code",
   "execution_count": 3,
   "id": "95156664",
   "metadata": {},
   "outputs": [],
   "source": [
    "file_path = 'h-and-m-personalized-fashion-recommendations/'\n",
    "customer_lookup, article_lookup, trans_data, user_vocab, item_vocab = read_files(file_path, cust_cols=['customer_id'], trans_cols= ['customer_id','article_id','t_dat'])\n",
    "trans_data=trans_data.set_index('t_dat')\n",
    "train = trans_data['2018-01-01':'2019-12-32'].reset_index()\n",
    "train.columns = train.columns.str.replace('index', 't_dat')\n",
    "test=trans_data['2020-01-01':].reset_index()\n",
    "test.columns = test.columns.str.replace('index', 't_dat')"
   ]
  },
  {
   "cell_type": "code",
   "execution_count": 4,
   "id": "f7125fb6",
   "metadata": {},
   "outputs": [
    {
     "data": {
      "text/html": [
       "<div>\n",
       "<style scoped>\n",
       "    .dataframe tbody tr th:only-of-type {\n",
       "        vertical-align: middle;\n",
       "    }\n",
       "\n",
       "    .dataframe tbody tr th {\n",
       "        vertical-align: top;\n",
       "    }\n",
       "\n",
       "    .dataframe thead th {\n",
       "        text-align: right;\n",
       "    }\n",
       "</style>\n",
       "<table border=\"1\" class=\"dataframe\">\n",
       "  <thead>\n",
       "    <tr style=\"text-align: right;\">\n",
       "      <th></th>\n",
       "      <th>t_dat</th>\n",
       "      <th>user_id</th>\n",
       "      <th>item_id</th>\n",
       "    </tr>\n",
       "  </thead>\n",
       "  <tbody>\n",
       "    <tr>\n",
       "      <th>20808187</th>\n",
       "      <td>2019-12-31</td>\n",
       "      <td>1371597</td>\n",
       "      <td>87180</td>\n",
       "    </tr>\n",
       "    <tr>\n",
       "      <th>20808188</th>\n",
       "      <td>2019-12-31</td>\n",
       "      <td>1371597</td>\n",
       "      <td>86968</td>\n",
       "    </tr>\n",
       "    <tr>\n",
       "      <th>20808189</th>\n",
       "      <td>2019-12-31</td>\n",
       "      <td>1371691</td>\n",
       "      <td>3914</td>\n",
       "    </tr>\n",
       "    <tr>\n",
       "      <th>20808190</th>\n",
       "      <td>2019-12-31</td>\n",
       "      <td>1371691</td>\n",
       "      <td>70758</td>\n",
       "    </tr>\n",
       "    <tr>\n",
       "      <th>20808191</th>\n",
       "      <td>2019-12-31</td>\n",
       "      <td>1371691</td>\n",
       "      <td>82035</td>\n",
       "    </tr>\n",
       "  </tbody>\n",
       "</table>\n",
       "</div>"
      ],
      "text/plain": [
       "               t_dat  user_id item_id\n",
       "20808187  2019-12-31  1371597   87180\n",
       "20808188  2019-12-31  1371597   86968\n",
       "20808189  2019-12-31  1371691    3914\n",
       "20808190  2019-12-31  1371691   70758\n",
       "20808191  2019-12-31  1371691   82035"
      ]
     },
     "execution_count": 4,
     "metadata": {},
     "output_type": "execute_result"
    }
   ],
   "source": [
    "train.tail()"
   ]
  },
  {
   "cell_type": "code",
   "execution_count": 5,
   "id": "0a3acbb4",
   "metadata": {},
   "outputs": [
    {
     "data": {
      "text/html": [
       "<div>\n",
       "<style scoped>\n",
       "    .dataframe tbody tr th:only-of-type {\n",
       "        vertical-align: middle;\n",
       "    }\n",
       "\n",
       "    .dataframe tbody tr th {\n",
       "        vertical-align: top;\n",
       "    }\n",
       "\n",
       "    .dataframe thead th {\n",
       "        text-align: right;\n",
       "    }\n",
       "</style>\n",
       "<table border=\"1\" class=\"dataframe\">\n",
       "  <thead>\n",
       "    <tr style=\"text-align: right;\">\n",
       "      <th></th>\n",
       "      <th>t_dat</th>\n",
       "      <th>user_id</th>\n",
       "      <th>item_id</th>\n",
       "    </tr>\n",
       "  </thead>\n",
       "  <tbody>\n",
       "    <tr>\n",
       "      <th>0</th>\n",
       "      <td>2020-01-01</td>\n",
       "      <td>1113</td>\n",
       "      <td>88913</td>\n",
       "    </tr>\n",
       "    <tr>\n",
       "      <th>1</th>\n",
       "      <td>2020-01-01</td>\n",
       "      <td>1402</td>\n",
       "      <td>80680</td>\n",
       "    </tr>\n",
       "    <tr>\n",
       "      <th>2</th>\n",
       "      <td>2020-01-01</td>\n",
       "      <td>1402</td>\n",
       "      <td>70323</td>\n",
       "    </tr>\n",
       "    <tr>\n",
       "      <th>3</th>\n",
       "      <td>2020-01-01</td>\n",
       "      <td>1618</td>\n",
       "      <td>81102</td>\n",
       "    </tr>\n",
       "    <tr>\n",
       "      <th>4</th>\n",
       "      <td>2020-01-01</td>\n",
       "      <td>1618</td>\n",
       "      <td>80281</td>\n",
       "    </tr>\n",
       "  </tbody>\n",
       "</table>\n",
       "</div>"
      ],
      "text/plain": [
       "        t_dat user_id item_id\n",
       "0  2020-01-01    1113   88913\n",
       "1  2020-01-01    1402   80680\n",
       "2  2020-01-01    1402   70323\n",
       "3  2020-01-01    1618   81102\n",
       "4  2020-01-01    1618   80281"
      ]
     },
     "execution_count": 5,
     "metadata": {},
     "output_type": "execute_result"
    }
   ],
   "source": [
    "test.head()"
   ]
  },
  {
   "cell_type": "code",
   "execution_count": 6,
   "id": "2b268ffc",
   "metadata": {},
   "outputs": [
    {
     "data": {
      "text/plain": [
       "<TensorSliceDataset shapes: {t_dat: (), user_id: (), item_id: ()}, types: {t_dat: tf.string, user_id: tf.string, item_id: tf.string}>"
      ]
     },
     "execution_count": 6,
     "metadata": {},
     "output_type": "execute_result"
    }
   ],
   "source": [
    "train=tf.data.Dataset.from_tensor_slices(dict(train))\n",
    "test=tf.data.Dataset.from_tensor_slices(dict(test))"
   ]
  }
 ],
 "metadata": {
  "kernelspec": {
   "display_name": "Python 3 (ipykernel)",
   "language": "python",
   "name": "python3"
  },
  "language_info": {
   "codemirror_mode": {
    "name": "ipython",
    "version": 3
   },
   "file_extension": ".py",
   "mimetype": "text/x-python",
   "name": "python",
   "nbconvert_exporter": "python",
   "pygments_lexer": "ipython3",
   "version": "3.8.11"
  }
 },
 "nbformat": 4,
 "nbformat_minor": 5
}
