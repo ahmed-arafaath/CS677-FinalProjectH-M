{
 "cells": [
  {
   "cell_type": "code",
   "execution_count": null,
   "id": "405e34ff",
   "metadata": {},
   "outputs": [],
   "source": [
    "# Python ≥3.5 is required\n",
    "import sys\n",
    "assert sys.version_info >= (3, 5)\n",
    "\n",
    "# Is this notebook running on Colab or Kaggle?\n",
    "IS_COLAB = \"google.colab\" in sys.modules\n",
    "IS_KAGGLE = \"kaggle_secrets\" in sys.modules\n",
    "\n",
    "# Scikit-Learn ≥0.20 is required\n",
    "import sklearn\n",
    "assert sklearn.__version__ >= \"0.20\"\n",
    "\n",
    "# TensorFlow ≥2.0 is required\n",
    "import tensorflow as tf\n",
    "from tensorflow import keras\n",
    "assert tf.__version__ >= \"2.0\"\n",
    "\n",
    "if not tf.config.list_physical_devices('GPU'):\n",
    "    print(\"No GPU was detected. LSTMs and CNNs can be very slow without a GPU.\")\n",
    "    if IS_COLAB:\n",
    "        print(\"Go to Runtime > Change runtime and select a GPU hardware accelerator.\")\n",
    "    if IS_KAGGLE:\n",
    "        print(\"Go to Settings > Accelerator and select GPU.\")\n",
    "\n",
    "# Common imports\n",
    "import numpy as np\n",
    "import pandas as pd\n",
    "import sklearn.preprocessing\n",
    "from sklearn.linear_model import LinearRegression\n",
    "from sklearn.metrics import mean_squared_error\n",
    "import os\n",
    "import datetime as dt\n",
    "from pathlib import Path\n",
    "\n",
    "# to make this notebook's output stable across runs\n",
    "np.random.seed(42)\n",
    "tf.random.set_seed(42)\n",
    "\n",
    "# To plot pretty figures\n",
    "%matplotlib inline\n",
    "import matplotlib as mpl\n",
    "import matplotlib.pyplot as plt\n",
    "mpl.rc('axes', labelsize=14)\n",
    "mpl.rc('xtick', labelsize=12)\n",
    "mpl.rc('ytick', labelsize=12)"
   ]
  },
  {
   "cell_type": "code",
   "execution_count": null,
   "id": "347632c3",
   "metadata": {},
   "outputs": [],
   "source": [
    "articles=pd.read_csv('h-and-m-personalized-fashion-recommendations/articles.csv', dtype={\"article_id\": \"str\"})\n",
    "customers=pd.read_csv('h-and-m-personalized-fashion-recommendations/customers.csv')\n",
    "transactions=pd.read_csv('h-and-m-personalized-fashion-recommendations/transactions_train.csv', dtype={\"article_id\": \"str\"},index_col='t_dat')\n",
    "transactions.head()"
   ]
  },
  {
   "cell_type": "code",
   "execution_count": null,
   "id": "ec207763",
   "metadata": {},
   "outputs": [],
   "source": [
    "customer = transactions.customer_id.unique()\n",
    "customer_map = {i:val for i,val in enumerate(customer)}\n",
    "inverse_customer_map = {val:i for i,val in enumerate(customer)}\n",
    "article = transactions.article_id.unique()\n",
    "article_map = {i:val for i,val in enumerate(article)}\n",
    "inverse_article_map = {val:i for i,val in enumerate(article)}\n",
    "transactions['customer_id']=transactions['customer_id'].map(inverse_customer_map)\n",
    "transactions['old_article_id']=transactions['article_id']\n",
    "transactions['article_id']=transactions['article_id'].map(inverse_article_map)"
   ]
  },
  {
   "cell_type": "code",
   "execution_count": null,
   "id": "4e1a561a",
   "metadata": {},
   "outputs": [],
   "source": [
    "train=transactions['2018-01-01':'2019-01-01']\n",
    "test=transactions['2018-01-01':'2019-01-01']\n",
    "train"
   ]
  },
  {
   "cell_type": "code",
   "execution_count": null,
   "id": "29ebfa08",
   "metadata": {},
   "outputs": [],
   "source": [
    "user_id_input = keras.layers.Input(shape=[1], name='user')\n",
    "item_id_input = keras.layers.Input(shape=[1], name='item')\n",
    "embedding_size = 10 # 5\n",
    "user_embedding = keras.layers.Embedding(output_dim=embedding_size, input_dim=customer.shape[0],\n",
    "                           input_length=1, name='user_embedding')(user_id_input)\n",
    "item_embedding = keras.layers.Embedding(output_dim=embedding_size, input_dim=article.shape[0],\n",
    "                           input_length=1, name='item_embedding')(item_id_input)\n",
    "user_vecs = keras.layers.Reshape([embedding_size])(user_embedding)\n",
    "item_vecs = keras.layers.Reshape([embedding_size])(item_embedding)\n",
    "input_vecs = keras.layers.Concatenate()([user_vecs, item_vecs])\n",
    "x = keras.layers.Dense(128, activation='relu')(input_vecs)\n",
    "y = keras.layers.Dense(1)(x)\n",
    "model = keras.models.Model(inputs=[user_id_input, item_id_input], outputs=y)\n",
    "model.compile(optimizer='adam', loss='mse')\n",
    "history = model.fit([train[\"customer_id\"], train[\"article_id\"]]\n",
    "                    , train[\"price\"]\n",
    "                    , batch_size=64, epochs=10, validation_split=0.1)"
   ]
  },
  {
   "cell_type": "code",
   "execution_count": null,
   "id": "cd792515",
   "metadata": {},
   "outputs": [],
   "source": []
  }
 ],
 "metadata": {
  "kernelspec": {
   "display_name": "Python 3 (ipykernel)",
   "language": "python",
   "name": "python3"
  },
  "language_info": {
   "codemirror_mode": {
    "name": "ipython",
    "version": 3
   },
   "file_extension": ".py",
   "mimetype": "text/x-python",
   "name": "python",
   "nbconvert_exporter": "python",
   "pygments_lexer": "ipython3",
   "version": "3.8.11"
  }
 },
 "nbformat": 4,
 "nbformat_minor": 5
}
