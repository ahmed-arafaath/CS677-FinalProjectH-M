{
 "cells": [
  {
   "cell_type": "code",
   "execution_count": 1,
   "id": "405e34ff",
   "metadata": {},
   "outputs": [
    {
     "name": "stdout",
     "output_type": "stream",
     "text": [
      "No GPU was detected. LSTMs and CNNs can be very slow without a GPU.\n"
     ]
    }
   ],
   "source": [
    "# Python ≥3.5 is required\n",
    "import sys\n",
    "assert sys.version_info >= (3, 5)\n",
    "\n",
    "# Is this notebook running on Colab or Kaggle?\n",
    "IS_COLAB = \"google.colab\" in sys.modules\n",
    "IS_KAGGLE = \"kaggle_secrets\" in sys.modules\n",
    "\n",
    "# Scikit-Learn ≥0.20 is required\n",
    "import sklearn\n",
    "assert sklearn.__version__ >= \"0.20\"\n",
    "\n",
    "# TensorFlow ≥2.0 is required\n",
    "import tensorflow as tf\n",
    "from typing import Dict, Text\n",
    "from tensorflow import keras\n",
    "import tensorflow_recommenders as tfrs\n",
    "try:\n",
    "    if not tf.config.list_physical_devices('GPU'):\n",
    "        assert tf.__version__ >= \"2.0\"\n",
    "        print(\"No GPU was detected. LSTMs and CNNs can be very slow without a GPU.\")\n",
    "        if IS_COLAB:\n",
    "            print(\"Go to Runtime > Change runtime and select a GPU hardware accelerator.\")\n",
    "        if IS_KAGGLE:\n",
    "            print(\"Go to Settings > Accelerator and select GPU.\")\n",
    "except:\n",
    "    if not tf.test.is_gpu_available():\n",
    "        assert tf.__version__ >= \"2.0\"\n",
    "        print(\"No GPU was detected. LSTMs and CNNs can be very slow without a GPU.\")\n",
    "        if IS_COLAB:\n",
    "            print(\"Go to Runtime > Change runtime and select a GPU hardware accelerator.\")\n",
    "        if IS_KAGGLE:\n",
    "            print(\"Go to Settings > Accelerator and select GPU.\")\n",
    "\n",
    "# Common imports\n",
    "import numpy as np\n",
    "import pandas as pd\n",
    "import sklearn.preprocessing\n",
    "from sklearn.linear_model import LinearRegression\n",
    "from sklearn.metrics import mean_squared_error\n",
    "import os\n",
    "import datetime as dt\n",
    "from pathlib import Path\n",
    "\n",
    "# to make this notebook's output stable across runs\n",
    "np.random.seed(42)\n",
    "try:\n",
    "    if not tf.config.list_physical_devices('GPU'):\n",
    "        tf.random.set_seed(42)\n",
    "    else:\n",
    "        tf.random.set_random_seed(42)\n",
    "except:\n",
    "    if not tf.test.is_gpu_available():\n",
    "        tf.random.set_seed(42)\n",
    "    else:\n",
    "        tf.random.set_random_seed(42)\n",
    "\n",
    "# To plot pretty figures\n",
    "%matplotlib inline\n",
    "import matplotlib as mpl\n",
    "import matplotlib.pyplot as plt\n",
    "mpl.rc('axes', labelsize=14)\n",
    "mpl.rc('xtick', labelsize=12)\n",
    "mpl.rc('ytick', labelsize=12)"
   ]
  },
  {
   "cell_type": "code",
   "execution_count": 2,
   "id": "b54c2c61",
   "metadata": {},
   "outputs": [],
   "source": [
    "trans_train = pd.read_csv('h-and-m-personalized-fashion-recommendations/transactions_train.csv')\n",
    "trans_train['quantity']=1\n",
    "master_df = trans_train[['customer_id','article_id','quantity']].astype(str)\n",
    "master_df['quantity'] = master_df['quantity'].astype(float)\n",
    "masterdf = master_df"
   ]
  },
  {
   "cell_type": "code",
   "execution_count": 3,
   "id": "84618e18",
   "metadata": {},
   "outputs": [],
   "source": [
    "### define interactions data and user data\n",
    "\n",
    "### interactions \n",
    "### here we create a reference table of the user , item, and quantity purchased\n",
    "interactions_dict = masterdf.groupby(['customer_id', 'article_id'])[ 'quantity'].sum().reset_index()\n",
    "\n",
    "## we tansform the table inta a dictionary , which then we feed into tensor slices\n",
    "# this step is crucial as this will be the type of data fed into the embedding layers\n",
    "interactions_dict = {name: np.array(value) for name, value in interactions_dict.items()}\n",
    "interactions = tf.data.Dataset.from_tensor_slices(interactions_dict)\n",
    "\n",
    "## we do similar step for item, where this is the reference table for items to be recommended\n",
    "items_dict = masterdf[['article_id']].drop_duplicates()\n",
    "items_dict = {name: np.array(value) for name, value in items_dict.items()}\n",
    "items = tf.data.Dataset.from_tensor_slices(items_dict)\n",
    "\n",
    "## map the features in interactions and items to an identifier that we will use throught the embedding layers\n",
    "## do it for all the items in interaction and item table\n",
    "## you may often get itemtype error, so that is why here i am casting the quantity type as float to ensure consistency\n",
    "interactions = interactions.map(lambda x: {\n",
    "    'customer_id' : x['customer_id'], \n",
    "    'article_id' : x['article_id'], \n",
    "    'quantity' : float(x['quantity']),\n",
    "\n",
    "})\n",
    "\n",
    "items = items.map(lambda x: x['article_id'])"
   ]
  },
  {
   "cell_type": "code",
   "execution_count": 4,
   "id": "41b56fca",
   "metadata": {},
   "outputs": [],
   "source": [
    "unique_item_titles = np.unique(np.concatenate(list(items.batch(1000))))\n",
    "unique_user_ids = np.unique(np.concatenate(list(interactions.batch(1_000).map(lambda x: x[\"customer_id\"]))))"
   ]
  },
  {
   "cell_type": "code",
   "execution_count": 5,
   "id": "22e083ec",
   "metadata": {},
   "outputs": [],
   "source": [
    "### get unique item and user id's as a lookup table\n",
    "unique_item_titles = np.unique(np.concatenate(list(items.batch(1000))))\n",
    "unique_user_ids = np.unique(np.concatenate(list(interactions.batch(1_000).map(lambda x: x[\"customer_id\"]))))\n",
    "\n",
    "# Randomly shuffle data and split between train and test.\n",
    "tf.random.set_seed(42)\n",
    "shuffled = interactions.shuffle(100_000, seed=42, reshuffle_each_iteration=False)\n",
    "\n",
    "train = shuffled.take(60_000)\n",
    "test = shuffled.skip(60_000).take(20_000)"
   ]
  },
  {
   "cell_type": "code",
   "execution_count": 6,
   "id": "417a70c4",
   "metadata": {},
   "outputs": [],
   "source": [
    "class RetailModel(tfrs.Model):\n",
    "\n",
    "    def __init__(self, user_model, item_model):\n",
    "        super().__init__()\n",
    "        \n",
    "        ### Candidate model (item)\n",
    "        ### This is Keras preprocessing layers to first convert user ids to integers, \n",
    "        ### and then convert those to user embeddings via an Embedding layer. \n",
    "        ### We use the list of unique user ids we computed earlier as a vocabulary:\n",
    "        item_model = tf.keras.Sequential([\n",
    "                                        tf.keras.layers.experimental.preprocessing.StringLookup(\n",
    "                                        vocabulary=unique_item_titles, mask_token=None),\n",
    "                                        tf.keras.layers.Embedding(len(unique_item_titles) + 1, embedding_dimension)\n",
    "                                        ])\n",
    "        ### we pass the embedding layer into item model\n",
    "        self.item_model: tf.keras.Model = item_model\n",
    "            \n",
    "        ### Query model (users)    \n",
    "        user_model = tf.keras.Sequential([\n",
    "                                        tf.keras.layers.experimental.preprocessing.StringLookup(\n",
    "                                        vocabulary=unique_user_ids, mask_token=None),\n",
    "                                        # We add an additional embedding to account for unknown tokens.\n",
    "                                        tf.keras.layers.Embedding(len(unique_user_ids) + 1, embedding_dimension)\n",
    "                                        ])\n",
    "        self.user_model: tf.keras.Model = user_model\n",
    "        \n",
    "        ### for retrieval model. we take top-k accuracy as metrics\n",
    "        metrics = tfrs.metrics.FactorizedTopK(candidates=items.batch(128).map(item_model))\n",
    "        \n",
    "        # define the task, which is retrieval                                    )    \n",
    "        task = tfrs.tasks.Retrieval(metrics=metrics)\n",
    "       \n",
    "        self.task: tf.keras.layers.Layer = task\n",
    "\n",
    "    def compute_loss(self, features: Dict[Text, tf.Tensor], training=False) -> tf.Tensor:\n",
    "        # We pick out the user features and pass them into the user model.\n",
    "        user_embeddings = self.user_model(features[\"customer_id\"])\n",
    "        # And pick out the movie features and pass them into the movie model,\n",
    "        # getting embeddings back.\n",
    "        positive_movie_embeddings = self.item_model(features[\"article_id\"])\n",
    "\n",
    "        # The task computes the loss and the metrics.\n",
    "        return self.task(user_embeddings, positive_movie_embeddings)"
   ]
  },
  {
   "cell_type": "code",
   "execution_count": 7,
   "id": "5711d538",
   "metadata": {},
   "outputs": [
    {
     "name": "stdout",
     "output_type": "stream",
     "text": [
      "Epoch 1/20\n",
      "8/8 [==============================] - 118s 14s/step - factorized_top_k/top_1_categorical_accuracy: 0.0000e+00 - factorized_top_k/top_5_categorical_accuracy: 1.6667e-05 - factorized_top_k/top_10_categorical_accuracy: 1.6667e-05 - factorized_top_k/top_50_categorical_accuracy: 4.3333e-04 - factorized_top_k/top_100_categorical_accuracy: 0.0011 - loss: 62067.2244 - regularization_loss: 0.0000e+00 - total_loss: 62067.2244\n",
      "Epoch 2/20\n",
      "8/8 [==============================] - 126s 16s/step - factorized_top_k/top_1_categorical_accuracy: 0.0000e+00 - factorized_top_k/top_5_categorical_accuracy: 1.6667e-05 - factorized_top_k/top_10_categorical_accuracy: 5.0000e-05 - factorized_top_k/top_50_categorical_accuracy: 7.1667e-04 - factorized_top_k/top_100_categorical_accuracy: 0.0016 - loss: 62063.5365 - regularization_loss: 0.0000e+00 - total_loss: 62063.5365\n",
      "Epoch 3/20\n",
      "8/8 [==============================] - 117s 14s/step - factorized_top_k/top_1_categorical_accuracy: 0.0000e+00 - factorized_top_k/top_5_categorical_accuracy: 5.0000e-05 - factorized_top_k/top_10_categorical_accuracy: 1.5000e-04 - factorized_top_k/top_50_categorical_accuracy: 0.0012 - factorized_top_k/top_100_categorical_accuracy: 0.0021 - loss: 62059.8003 - regularization_loss: 0.0000e+00 - total_loss: 62059.8003\n",
      "Epoch 4/20\n",
      "8/8 [==============================] - 121s 15s/step - factorized_top_k/top_1_categorical_accuracy: 0.0000e+00 - factorized_top_k/top_5_categorical_accuracy: 2.0000e-04 - factorized_top_k/top_10_categorical_accuracy: 3.3333e-04 - factorized_top_k/top_50_categorical_accuracy: 0.0016 - factorized_top_k/top_100_categorical_accuracy: 0.0029 - loss: 62055.9618 - regularization_loss: 0.0000e+00 - total_loss: 62055.9618\n",
      "Epoch 5/20\n",
      "8/8 [==============================] - 125s 15s/step - factorized_top_k/top_1_categorical_accuracy: 1.6667e-05 - factorized_top_k/top_5_categorical_accuracy: 2.8333e-04 - factorized_top_k/top_10_categorical_accuracy: 6.3333e-04 - factorized_top_k/top_50_categorical_accuracy: 0.0022 - factorized_top_k/top_100_categorical_accuracy: 0.0041 - loss: 62051.9670 - regularization_loss: 0.0000e+00 - total_loss: 62051.9670\n",
      "Epoch 6/20\n",
      "8/8 [==============================] - 125s 15s/step - factorized_top_k/top_1_categorical_accuracy: 6.6667e-05 - factorized_top_k/top_5_categorical_accuracy: 4.6667e-04 - factorized_top_k/top_10_categorical_accuracy: 8.3333e-04 - factorized_top_k/top_50_categorical_accuracy: 0.0032 - factorized_top_k/top_100_categorical_accuracy: 0.0058 - loss: 62047.7474 - regularization_loss: 0.0000e+00 - total_loss: 62047.7474\n",
      "Epoch 7/20\n",
      "8/8 [==============================] - 126s 15s/step - factorized_top_k/top_1_categorical_accuracy: 6.6667e-05 - factorized_top_k/top_5_categorical_accuracy: 7.3333e-04 - factorized_top_k/top_10_categorical_accuracy: 0.0012 - factorized_top_k/top_50_categorical_accuracy: 0.0047 - factorized_top_k/top_100_categorical_accuracy: 0.0085 - loss: 62043.2522 - regularization_loss: 0.0000e+00 - total_loss: 62043.2522\n",
      "Epoch 8/20\n",
      "8/8 [==============================] - 124s 15s/step - factorized_top_k/top_1_categorical_accuracy: 6.6667e-05 - factorized_top_k/top_5_categorical_accuracy: 0.0011 - factorized_top_k/top_10_categorical_accuracy: 0.0018 - factorized_top_k/top_50_categorical_accuracy: 0.0069 - factorized_top_k/top_100_categorical_accuracy: 0.0115 - loss: 62038.3937 - regularization_loss: 0.0000e+00 - total_loss: 62038.3937\n",
      "Epoch 9/20\n",
      "8/8 [==============================] - 129s 16s/step - factorized_top_k/top_1_categorical_accuracy: 6.6667e-05 - factorized_top_k/top_5_categorical_accuracy: 0.0015 - factorized_top_k/top_10_categorical_accuracy: 0.0027 - factorized_top_k/top_50_categorical_accuracy: 0.0097 - factorized_top_k/top_100_categorical_accuracy: 0.0152 - loss: 62033.0955 - regularization_loss: 0.0000e+00 - total_loss: 62033.0955\n",
      "Epoch 10/20\n",
      "8/8 [==============================] - 129s 16s/step - factorized_top_k/top_1_categorical_accuracy: 8.3333e-05 - factorized_top_k/top_5_categorical_accuracy: 0.0025 - factorized_top_k/top_10_categorical_accuracy: 0.0042 - factorized_top_k/top_50_categorical_accuracy: 0.0133 - factorized_top_k/top_100_categorical_accuracy: 0.0206 - loss: 62027.2578 - regularization_loss: 0.0000e+00 - total_loss: 62027.2578\n",
      "Epoch 11/20\n",
      "8/8 [==============================] - 129s 16s/step - factorized_top_k/top_1_categorical_accuracy: 1.6667e-04 - factorized_top_k/top_5_categorical_accuracy: 0.0036 - factorized_top_k/top_10_categorical_accuracy: 0.0064 - factorized_top_k/top_50_categorical_accuracy: 0.0179 - factorized_top_k/top_100_categorical_accuracy: 0.0280 - loss: 62020.7656 - regularization_loss: 0.0000e+00 - total_loss: 62020.7656\n",
      "Epoch 12/20\n",
      "8/8 [==============================] - 132s 16s/step - factorized_top_k/top_1_categorical_accuracy: 2.3333e-04 - factorized_top_k/top_5_categorical_accuracy: 0.0055 - factorized_top_k/top_10_categorical_accuracy: 0.0094 - factorized_top_k/top_50_categorical_accuracy: 0.0246 - factorized_top_k/top_100_categorical_accuracy: 0.0367 - loss: 62013.4957 - regularization_loss: 0.0000e+00 - total_loss: 62013.4957\n",
      "Epoch 13/20\n",
      "8/8 [==============================] - 127s 15s/step - factorized_top_k/top_1_categorical_accuracy: 4.3333e-04 - factorized_top_k/top_5_categorical_accuracy: 0.0082 - factorized_top_k/top_10_categorical_accuracy: 0.0129 - factorized_top_k/top_50_categorical_accuracy: 0.0322 - factorized_top_k/top_100_categorical_accuracy: 0.0469 - loss: 62005.2804 - regularization_loss: 0.0000e+00 - total_loss: 62005.2804\n",
      "Epoch 14/20\n",
      "8/8 [==============================] - 124s 15s/step - factorized_top_k/top_1_categorical_accuracy: 6.6667e-04 - factorized_top_k/top_5_categorical_accuracy: 0.0114 - factorized_top_k/top_10_categorical_accuracy: 0.0174 - factorized_top_k/top_50_categorical_accuracy: 0.0417 - factorized_top_k/top_100_categorical_accuracy: 0.0602 - loss: 61995.9258 - regularization_loss: 0.0000e+00 - total_loss: 61995.9258\n",
      "Epoch 15/20\n",
      "8/8 [==============================] - 122s 15s/step - factorized_top_k/top_1_categorical_accuracy: 8.6667e-04 - factorized_top_k/top_5_categorical_accuracy: 0.0151 - factorized_top_k/top_10_categorical_accuracy: 0.0228 - factorized_top_k/top_50_categorical_accuracy: 0.0537 - factorized_top_k/top_100_categorical_accuracy: 0.0765 - loss: 61985.2157 - regularization_loss: 0.0000e+00 - total_loss: 61985.2157\n",
      "Epoch 16/20\n",
      "8/8 [==============================] - 122s 15s/step - factorized_top_k/top_1_categorical_accuracy: 9.5000e-04 - factorized_top_k/top_5_categorical_accuracy: 0.0188 - factorized_top_k/top_10_categorical_accuracy: 0.0289 - factorized_top_k/top_50_categorical_accuracy: 0.0680 - factorized_top_k/top_100_categorical_accuracy: 0.0946 - loss: 61972.8581 - regularization_loss: 0.0000e+00 - total_loss: 61972.8581\n",
      "Epoch 17/20\n",
      "8/8 [==============================] - 123s 15s/step - factorized_top_k/top_1_categorical_accuracy: 0.0015 - factorized_top_k/top_5_categorical_accuracy: 0.0223 - factorized_top_k/top_10_categorical_accuracy: 0.0365 - factorized_top_k/top_50_categorical_accuracy: 0.0841 - factorized_top_k/top_100_categorical_accuracy: 0.1163 - loss: 61958.5265 - regularization_loss: 0.0000e+00 - total_loss: 61958.5265\n",
      "Epoch 18/20\n",
      "8/8 [==============================] - 114s 14s/step - factorized_top_k/top_1_categorical_accuracy: 0.0014 - factorized_top_k/top_5_categorical_accuracy: 0.0264 - factorized_top_k/top_10_categorical_accuracy: 0.0435 - factorized_top_k/top_50_categorical_accuracy: 0.1015 - factorized_top_k/top_100_categorical_accuracy: 0.1400 - loss: 61941.7986 - regularization_loss: 0.0000e+00 - total_loss: 61941.7986\n",
      "Epoch 19/20\n",
      "8/8 [==============================] - 119s 15s/step - factorized_top_k/top_1_categorical_accuracy: 0.0018 - factorized_top_k/top_5_categorical_accuracy: 0.0296 - factorized_top_k/top_10_categorical_accuracy: 0.0498 - factorized_top_k/top_50_categorical_accuracy: 0.1208 - factorized_top_k/top_100_categorical_accuracy: 0.1652 - loss: 61922.1753 - regularization_loss: 0.0000e+00 - total_loss: 61922.1753\n",
      "Epoch 20/20\n"
     ]
    },
    {
     "name": "stdout",
     "output_type": "stream",
     "text": [
      "8/8 [==============================] - 115s 14s/step - factorized_top_k/top_1_categorical_accuracy: 0.0019 - factorized_top_k/top_5_categorical_accuracy: 0.0316 - factorized_top_k/top_10_categorical_accuracy: 0.0548 - factorized_top_k/top_50_categorical_accuracy: 0.1404 - factorized_top_k/top_100_categorical_accuracy: 0.1914 - loss: 61899.0260 - regularization_loss: 0.0000e+00 - total_loss: 61899.0260\n",
      "5/5 [==============================] - 41s 8s/step - factorized_top_k/top_1_categorical_accuracy: 2.5000e-04 - factorized_top_k/top_5_categorical_accuracy: 0.0012 - factorized_top_k/top_10_categorical_accuracy: 0.0016 - factorized_top_k/top_50_categorical_accuracy: 0.0047 - factorized_top_k/top_100_categorical_accuracy: 0.0066 - loss: 32588.3737 - regularization_loss: 0.0000e+00 - total_loss: 32588.3737\n"
     ]
    },
    {
     "data": {
      "text/plain": [
       "{'factorized_top_k/top_1_categorical_accuracy': 0.0002500000118743628,\n",
       " 'factorized_top_k/top_5_categorical_accuracy': 0.0012499999720603228,\n",
       " 'factorized_top_k/top_10_categorical_accuracy': 0.0016499999910593033,\n",
       " 'factorized_top_k/top_50_categorical_accuracy': 0.004699999932199717,\n",
       " 'factorized_top_k/top_100_categorical_accuracy': 0.006649999879300594,\n",
       " 'loss': 29626.51171875,\n",
       " 'regularization_loss': 0,\n",
       " 'total_loss': 29626.51171875}"
      ]
     },
     "execution_count": 7,
     "metadata": {},
     "output_type": "execute_result"
    }
   ],
   "source": [
    "### Fitting and evaluating\n",
    "\n",
    "### we choose the dimensionality of the query and candicate representation.\n",
    "embedding_dimension = 32\n",
    "\n",
    "## we pass the model, which is the same model we created in the query and candidate tower, into the model\n",
    "item_model = tf.keras.Sequential([\n",
    "                                tf.keras.layers.experimental.preprocessing.StringLookup(\n",
    "                                vocabulary=unique_item_titles, mask_token=None),\n",
    "                                tf.keras.layers.Embedding(len(unique_item_titles) + 1, embedding_dimension)\n",
    "                                ])\n",
    "\n",
    "user_model = tf.keras.Sequential([\n",
    "                                tf.keras.layers.experimental.preprocessing.StringLookup(\n",
    "                                vocabulary=unique_user_ids, mask_token=None),\n",
    "                                # We add an additional embedding to account for unknown tokens.\n",
    "                                tf.keras.layers.Embedding(len(unique_user_ids) + 1, embedding_dimension)\n",
    "                                ])\n",
    "\n",
    "model = RetailModel(user_model, item_model)\n",
    "\n",
    "# a smaller learning rate may make the model move slower and prone to overfitting, so we stick to 0.1\n",
    "# other optimizers, such as SGD and Adam, are listed here https://www.tensorflow.org/api_docs/python/tf/keras/optimizers\n",
    "model.compile(optimizer=tf.keras.optimizers.SGD())\n",
    "\n",
    "cached_train = train.shuffle(100_000).batch(8192).cache()\n",
    "cached_test = test.batch(4096).cache()\n",
    "\n",
    "## fit the model with ten epochs\n",
    "model_hist = model.fit(cached_train, epochs=20)\n",
    "\n",
    "#evaluate the model\n",
    "model.evaluate(cached_test, return_dict=True)"
   ]
  },
  {
   "cell_type": "code",
   "execution_count": 8,
   "id": "d83ceb30",
   "metadata": {},
   "outputs": [
    {
     "name": "stdout",
     "output_type": "stream",
     "text": [
      "5/5 [==============================] - 39s 8s/step - factorized_top_k/top_1_categorical_accuracy: 2.5000e-04 - factorized_top_k/top_5_categorical_accuracy: 0.0012 - factorized_top_k/top_10_categorical_accuracy: 0.0016 - factorized_top_k/top_50_categorical_accuracy: 0.0047 - factorized_top_k/top_100_categorical_accuracy: 0.0066 - loss: 32588.3737 - regularization_loss: 0.0000e+00 - total_loss: 32588.3737\n"
     ]
    },
    {
     "data": {
      "text/plain": [
       "{'factorized_top_k/top_1_categorical_accuracy': 0.0002500000118743628,\n",
       " 'factorized_top_k/top_5_categorical_accuracy': 0.0012499999720603228,\n",
       " 'factorized_top_k/top_10_categorical_accuracy': 0.0016499999910593033,\n",
       " 'factorized_top_k/top_50_categorical_accuracy': 0.004699999932199717,\n",
       " 'factorized_top_k/top_100_categorical_accuracy': 0.006649999879300594,\n",
       " 'loss': 29626.51171875,\n",
       " 'regularization_loss': 0,\n",
       " 'total_loss': 29626.51171875}"
      ]
     },
     "execution_count": 8,
     "metadata": {},
     "output_type": "execute_result"
    }
   ],
   "source": [
    "model.evaluate(cached_test, return_dict=True)"
   ]
  },
  {
   "cell_type": "code",
   "execution_count": 9,
   "id": "afc8cfa6",
   "metadata": {},
   "outputs": [
    {
     "data": {
      "text/plain": [
       "array([b'108775015', b'108775044', b'108775051', ..., b'953450001',\n",
       "       b'953763001', b'956217002'], dtype=object)"
      ]
     },
     "execution_count": 9,
     "metadata": {},
     "output_type": "execute_result"
    }
   ],
   "source": [
    "unique_item_titles"
   ]
  },
  {
   "cell_type": "code",
   "execution_count": 10,
   "id": "ee76ddfa",
   "metadata": {},
   "outputs": [
    {
     "data": {
      "text/plain": [
       "array([b'00000dbacae5abe5e23885899a1fa44253a17956c6d1c3d25f88aa139fdfc657',\n",
       "       b'0000423b00ade91418cceaf3b26c6af3dd342b51fd051eec9c12fb36984420fa',\n",
       "       b'000058a12d5b43e67d225668fa1f8d618c13dc232df0cad8ffe7ad4a1091e318',\n",
       "       ...,\n",
       "       b'ffffcf35913a0bee60e8741cb2b4e78b8a98ee5ff2e6a1778d0116cffd259264',\n",
       "       b'ffffd7744cebcf3aca44ae7049d2a94b87074c3d4ffe38b2236865d949d4df6a',\n",
       "       b'ffffd9ac14e89946416d80e791d064701994755c3ab686a1eaf3458c36f52241'],\n",
       "      dtype=object)"
      ]
     },
     "execution_count": 10,
     "metadata": {},
     "output_type": "execute_result"
    }
   ],
   "source": [
    "unique_user_ids "
   ]
  },
  {
   "cell_type": "code",
   "execution_count": 11,
   "id": "953f0563",
   "metadata": {},
   "outputs": [
    {
     "data": {
      "text/plain": [
       "<TakeDataset shapes: {customer_id: (), article_id: (), quantity: ()}, types: {customer_id: tf.string, article_id: tf.string, quantity: tf.float32}>"
      ]
     },
     "execution_count": 11,
     "metadata": {},
     "output_type": "execute_result"
    }
   ],
   "source": [
    "train"
   ]
  },
  {
   "cell_type": "code",
   "execution_count": 12,
   "id": "2d152f9d",
   "metadata": {},
   "outputs": [
    {
     "data": {
      "text/plain": [
       "<tensorflow_recommenders.layers.factorized_top_k.BruteForce at 0x278d69a0d60>"
      ]
     },
     "execution_count": 12,
     "metadata": {},
     "output_type": "execute_result"
    }
   ],
   "source": [
    "index = tfrs.layers.factorized_top_k.BruteForce(model.user_model)\n",
    "index.index_from_dataset(items.batch(100).map(lambda items: (items,model.item_model(items))))"
   ]
  },
  {
   "cell_type": "code",
   "execution_count": 13,
   "id": "3d8c9b7c",
   "metadata": {},
   "outputs": [
    {
     "name": "stdout",
     "output_type": "stream",
     "text": [
      "Recommendations for user 00000dbacae5abe5e23885899a1fa44253a17956c6d1c3d25f88aa139fdfc657: [b'749699002' b'599580049' b'719031001' b'739144007' b'753214007'\n",
      " b'537688015' b'679853009' b'677930066' b'636323002' b'706016001'\n",
      " b'805376003' b'399223001']\n"
     ]
    }
   ],
   "source": [
    "j = '00000dbacae5abe5e23885899a1fa44253a17956c6d1c3d25f88aa139fdfc657'\n",
    "_, titles = index(tf.constant([j]),k=12)\n",
    "print(f\"Recommendations for user %s: {titles[0]}\" %(j))"
   ]
  },
  {
   "cell_type": "code",
   "execution_count": null,
   "id": "894f86ce",
   "metadata": {},
   "outputs": [],
   "source": []
  }
 ],
 "metadata": {
  "kernelspec": {
   "display_name": "Python 3 (ipykernel)",
   "language": "python",
   "name": "python3"
  },
  "language_info": {
   "codemirror_mode": {
    "name": "ipython",
    "version": 3
   },
   "file_extension": ".py",
   "mimetype": "text/x-python",
   "name": "python",
   "nbconvert_exporter": "python",
   "pygments_lexer": "ipython3",
   "version": "3.8.11"
  }
 },
 "nbformat": 4,
 "nbformat_minor": 5
}
