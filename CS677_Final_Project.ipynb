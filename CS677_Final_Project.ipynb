{
 "cells": [
  {
   "cell_type": "code",
   "execution_count": 1,
   "id": "405e34ff",
   "metadata": {},
   "outputs": [
    {
     "name": "stdout",
     "output_type": "stream",
     "text": [
      "No GPU was detected. LSTMs and CNNs can be very slow without a GPU.\n"
     ]
    }
   ],
   "source": [
    "# Python ≥3.5 is required\n",
    "import sys\n",
    "assert sys.version_info >= (3, 5)\n",
    "\n",
    "# Is this notebook running on Colab or Kaggle?\n",
    "IS_COLAB = \"google.colab\" in sys.modules\n",
    "IS_KAGGLE = \"kaggle_secrets\" in sys.modules\n",
    "\n",
    "# Scikit-Learn ≥0.20 is required\n",
    "import sklearn\n",
    "assert sklearn.__version__ >= \"0.20\"\n",
    "\n",
    "# TensorFlow ≥2.0 is required\n",
    "import tensorflow as tf\n",
    "from typing import Dict, Text\n",
    "from tensorflow import keras\n",
    "import tensorflow_recommenders as tfrs\n",
    "try:\n",
    "    if not tf.config.list_physical_devices('GPU'):\n",
    "        assert tf.__version__ >= \"2.0\"\n",
    "        print(\"No GPU was detected. LSTMs and CNNs can be very slow without a GPU.\")\n",
    "        if IS_COLAB:\n",
    "            print(\"Go to Runtime > Change runtime and select a GPU hardware accelerator.\")\n",
    "        if IS_KAGGLE:\n",
    "            print(\"Go to Settings > Accelerator and select GPU.\")\n",
    "except:\n",
    "    if not tf.test.is_gpu_available():\n",
    "        assert tf.__version__ >= \"2.0\"\n",
    "        print(\"No GPU was detected. LSTMs and CNNs can be very slow without a GPU.\")\n",
    "        if IS_COLAB:\n",
    "            print(\"Go to Runtime > Change runtime and select a GPU hardware accelerator.\")\n",
    "        if IS_KAGGLE:\n",
    "            print(\"Go to Settings > Accelerator and select GPU.\")\n",
    "\n",
    "# Common imports\n",
    "import numpy as np\n",
    "import pandas as pd\n",
    "import sklearn.preprocessing\n",
    "from sklearn.linear_model import LinearRegression\n",
    "from sklearn.metrics import mean_squared_error\n",
    "import os\n",
    "import datetime as dt\n",
    "from pathlib import Path\n",
    "\n",
    "# to make this notebook's output stable across runs\n",
    "np.random.seed(42)\n",
    "try:\n",
    "    if not tf.config.list_physical_devices('GPU'):\n",
    "        tf.random.set_seed(42)\n",
    "    else:\n",
    "        tf.random.set_random_seed(42)\n",
    "except:\n",
    "    if not tf.test.is_gpu_available():\n",
    "        tf.random.set_seed(42)\n",
    "    else:\n",
    "        tf.random.set_random_seed(42)\n",
    "\n",
    "# To plot pretty figures\n",
    "%matplotlib inline\n",
    "import matplotlib as mpl\n",
    "import matplotlib.pyplot as plt\n",
    "mpl.rc('axes', labelsize=14)\n",
    "mpl.rc('xtick', labelsize=12)\n",
    "mpl.rc('ytick', labelsize=12)"
   ]
  },
  {
   "cell_type": "code",
   "execution_count": 2,
   "id": "aaa2f559",
   "metadata": {},
   "outputs": [],
   "source": [
    "def read_files(file_path, **kwargs):\n",
    "    \n",
    "    art_df_args = dict(filepath_or_buffer=file_path + 'articles.csv',low_memory = False)\n",
    "    if 'art_cols' in kwargs:\n",
    "        art_df_args['usecols']=kwargs['art_cols']\n",
    "    \n",
    "    cust_df_args = dict(filepath_or_buffer=file_path + 'customers.csv', low_memory = False)\n",
    "    if  'cust_cols' in  kwargs:\n",
    "        cust_df_args['usecols']=kwargs['cust_cols']\n",
    "    \n",
    "    trans_df_args= dict(filepath_or_buffer=file_path + 'transactions_train.csv', low_memory = False)\n",
    "    if  'trans_cols' in kwargs:\n",
    "        trans_df_args['usecols']=kwargs['trans_cols']\n",
    "    \n",
    "    art_df = pd.read_csv(**art_df_args)\n",
    "    cust_df = pd.read_csv(**cust_df_args)\n",
    "    trans_df= pd.read_csv(**trans_df_args)\n",
    "    \n",
    "    customer_lookup = cust_df.reset_index().set_index('customer_id')['index'].astype(str).to_dict()\n",
    "    article_lookup =art_df.reset_index().set_index('article_id')['index'].astype(str).to_dict()\n",
    "    \n",
    "    trans_df['user_id']= trans_df['customer_id'].map(customer_lookup)\n",
    "    trans_df['item_id']= trans_df['article_id'].map(article_lookup)\n",
    "    \n",
    "    unique_users = trans_df['user_id'].unique()\n",
    "    unique_items = trans_df['item_id'].unique()\n",
    "    \n",
    "    trans_df = trans_df.drop(columns =['customer_id','article_id'])\n",
    "    \n",
    "    return customer_lookup, article_lookup, trans_df, unique_users, unique_items\n"
   ]
  },
  {
   "cell_type": "code",
   "execution_count": null,
   "id": "3f6e3aa4",
   "metadata": {},
   "outputs": [],
   "source": [
    "file_path = 'h-and-m-personalized-fashion-recommendations/'\n",
    "customer_lookup, article_lookup, trans_data, user_vocab, item_vocab = read_files(file_path, cust_cols=['customer_id'], trans_cols= ['customer_id','article_id'])\n",
    "train_size =0.80\n",
    "np.random.seed(1221)\n",
    "train = trans_data[['user_id','item_id']].sample(frac=train_size)\n",
    "temp =  trans_data[['user_id','item_id']].drop(train.index)\n",
    "valid=temp[['user_id','item_id']].sample(frac=0.5)\n",
    "test=temp[['user_id','item_id']].drop(valid.index)"
   ]
  },
  {
   "cell_type": "code",
   "execution_count": null,
   "id": "458f4891",
   "metadata": {},
   "outputs": [],
   "source": [
    "train.tail()"
   ]
  },
  {
   "cell_type": "code",
   "execution_count": null,
   "id": "0c39e4cc",
   "metadata": {},
   "outputs": [],
   "source": [
    "test.head()"
   ]
  },
  {
   "cell_type": "code",
   "execution_count": null,
   "id": "3d98b3bf",
   "metadata": {},
   "outputs": [],
   "source": [
    "embedding_dimension = 32"
   ]
  },
  {
   "cell_type": "code",
   "execution_count": null,
   "id": "92f94918",
   "metadata": {},
   "outputs": [],
   "source": [
    "user_model = tf.keras.Sequential([\n",
    "    tf.keras.layers.StringLookup(\n",
    "        vocabulary = user_vocab, mask_token =None),\n",
    "    tf.keras.layers.Embedding(len(user_vocab)+1, embedding_dimension)])"
   ]
  },
  {
   "cell_type": "code",
   "execution_count": null,
   "id": "9bfd7738",
   "metadata": {},
   "outputs": [],
   "source": [
    "item_model = tf.keras.Sequential([\n",
    "    tf.keras.layers.StringLookup(\n",
    "        vocabulary = item_vocab, mask_token =None),\n",
    "    tf.keras.layers.Embedding(len(item_vocab)+1, embedding_dimension)\n",
    "])"
   ]
  },
  {
   "cell_type": "code",
   "execution_count": null,
   "id": "b06b9e0f",
   "metadata": {},
   "outputs": [],
   "source": [
    "metrics = tfrs.metrics.FactorizedTopK(\n",
    "    candidates=items.batch(256).map(item_model))\n",
    "\n",
    "task = tfrs.tasks.Retrieval(metrics=metrics)"
   ]
  },
  {
   "cell_type": "code",
   "execution_count": null,
   "id": "a8a07155",
   "metadata": {},
   "outputs": [],
   "source": [
    "class UserItemModel(tfrs.Model):\n",
    "    \n",
    "    def __init__(self, user_model, item_model):\n",
    "        super().__init__()\n",
    "        self.user_model : tf.keras.Model = user_model\n",
    "        self.item_model : tf.keras.Model = item_model\n",
    "        self.task : tf.keras.layers.Layer = task\n",
    "            \n",
    "    def compute_loss(self,features: Dict[Text, tf.Tensor], training=False) -> tf.Tensor:\n",
    "        \n",
    "        user_embeddings = self.user_model(features['user_id'])\n",
    "        positive_item_embeddings = self.item_model(features['item_id'])\n",
    "        \n",
    "        return self.task(user_embeddings,positive_item_embeddings)"
   ]
  },
  {
   "cell_type": "code",
   "execution_count": null,
   "id": "8253b491",
   "metadata": {},
   "outputs": [],
   "source": [
    "model = UserItemModel(user_model, item_model)\n",
    "model.compile(optimizer=tf.keras.optimizers.Adagrad(learning_rate=0.1))"
   ]
  },
  {
   "cell_type": "code",
   "execution_count": null,
   "id": "99accad8",
   "metadata": {},
   "outputs": [],
   "source": [
    "cached_train = train.batch(8192).cache()\n",
    "cached_valid = valid.batch(4096).cache()\n",
    "cached_test = test.batch(4096).cache()"
   ]
  },
  {
   "cell_type": "code",
   "execution_count": null,
   "id": "819c19d9",
   "metadata": {},
   "outputs": [],
   "source": [
    "model.fit(cached_train, epochs=10,validation_data=cached_valid)"
   ]
  }
 ],
 "metadata": {
  "kernelspec": {
   "display_name": "Python 3 (ipykernel)",
   "language": "python",
   "name": "python3"
  },
  "language_info": {
   "codemirror_mode": {
    "name": "ipython",
    "version": 3
   },
   "file_extension": ".py",
   "mimetype": "text/x-python",
   "name": "python",
   "nbconvert_exporter": "python",
   "pygments_lexer": "ipython3",
   "version": "3.8.11"
  }
 },
 "nbformat": 4,
 "nbformat_minor": 5
}
